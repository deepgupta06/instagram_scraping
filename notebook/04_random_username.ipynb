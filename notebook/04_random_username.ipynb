{
 "cells": [
  {
   "cell_type": "code",
   "execution_count": 2,
   "metadata": {},
   "outputs": [],
   "source": [
    "import random\n",
    "import string\n"
   ]
  },
  {
   "cell_type": "code",
   "execution_count": 16,
   "metadata": {},
   "outputs": [
    {
     "name": "stdout",
     "output_type": "stream",
     "text": [
      "tgyxj844\n",
      "jxdwiky615\n"
     ]
    }
   ],
   "source": [
    "def generate_username(length=8):\n",
    "    # Define the pool of characters to choose from\n",
    "    characters_alphabet = random.choices(string.ascii_letters, k=int(length*.7))\n",
    "    number = random.choices(string.digits, k=length-int(length*.7))\n",
    "    username = characters_alphabet+number\n",
    "    #print(characters_alphabet)\n",
    "    \n",
    "    # Use random.choices to pick length characters from the pool\n",
    "    username = ''.join(username)\n",
    "    \n",
    "    return username.lower()\n",
    "\n",
    "# Generate a random username with default length of 8\n",
    "print(generate_username()) \n",
    "\n",
    "# Generate a random username with length of 10\n",
    "print(generate_username(10))\n"
   ]
  },
  {
   "cell_type": "code",
   "execution_count": 18,
   "metadata": {},
   "outputs": [
    {
     "name": "stdout",
     "output_type": "stream",
     "text": [
      "Akkgxqu75&\n",
      "Dctssdoq723!\n"
     ]
    }
   ],
   "source": [
    "def generate_pawword(length=10):\n",
    "    characters_alphabet = random.choices(string.ascii_letters, k=int(length*.7))\n",
    "    number = random.choices(string.digits, k=length-int(length*.7)-1)\n",
    "    special_char = random.choices([\"!\",\"@\",\"$\",\"%\",\"&\",\"*\"], k=1)\n",
    "    username = characters_alphabet+number+special_char\n",
    "    username = ''.join(username)\n",
    "    username = username.lower()\n",
    "    username = username.capitalize()\n",
    "    return username\n",
    "\n",
    "# Generate a random username with default length of 8\n",
    "print(generate_pawword()) \n",
    "\n",
    "# Generate a random username with length of 10\n",
    "print(generate_pawword(12))\n"
   ]
  },
  {
   "cell_type": "code",
   "execution_count": null,
   "metadata": {},
   "outputs": [],
   "source": []
  }
 ],
 "metadata": {
  "kernelspec": {
   "display_name": "venv",
   "language": "python",
   "name": "python3"
  },
  "language_info": {
   "codemirror_mode": {
    "name": "ipython",
    "version": 3
   },
   "file_extension": ".py",
   "mimetype": "text/x-python",
   "name": "python",
   "nbconvert_exporter": "python",
   "pygments_lexer": "ipython3",
   "version": "3.10.10"
  },
  "orig_nbformat": 4
 },
 "nbformat": 4,
 "nbformat_minor": 2
}
