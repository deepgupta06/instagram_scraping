{
 "cells": [
  {
   "cell_type": "code",
   "execution_count": 86,
   "metadata": {},
   "outputs": [],
   "source": [
    "from selenium import webdriver \n",
    "from selenium.webdriver.common.by import By\n",
    "import pyperclip\n",
    "import time\n",
    "import random\n",
    "import string\n",
    "import json\n",
    "import ast"
   ]
  },
  {
   "cell_type": "code",
   "execution_count": 6,
   "metadata": {},
   "outputs": [],
   "source": [
    "def generate_username(length=8):\n",
    "    # Define the pool of characters to choose from\n",
    "    characters_alphabet = random.choices(string.ascii_letters, k=int(length*.7))\n",
    "    number = random.choices(string.digits, k=length-int(length*.7))\n",
    "    username = characters_alphabet+number\n",
    "    #print(characters_alphabet)\n",
    "    \n",
    "    # Use random.choices to pick length characters from the pool\n",
    "    username = ''.join(username)\n",
    "    \n",
    "    return username.lower()\n",
    "\n",
    "def generate_password(length=12):\n",
    "    characters_alphabet = random.choices(string.ascii_letters, k=int(length*.7))\n",
    "    number = random.choices(string.digits, k=length-int(length*.7)-1)\n",
    "    special_char = random.choices([\"!\",\"@\",\"$\",\"%\",\"&\",\"*\"], k=1)\n",
    "    password = characters_alphabet+number+special_char\n",
    "    password = ''.join(password)\n",
    "    password = password.lower()\n",
    "    password = password.capitalize()\n",
    "    return password\n",
    "\n"
   ]
  },
  {
   "cell_type": "code",
   "execution_count": 7,
   "metadata": {},
   "outputs": [],
   "source": [
    "driver_path = \"../chromedriver.exe\""
   ]
  },
  {
   "cell_type": "code",
   "execution_count": 84,
   "metadata": {},
   "outputs": [],
   "source": [
    "account_detail_json = \"tutanote_account_1.json\""
   ]
  },
  {
   "cell_type": "code",
   "execution_count": 8,
   "metadata": {},
   "outputs": [
    {
     "name": "stderr",
     "output_type": "stream",
     "text": [
      "C:\\Users\\deepg\\AppData\\Local\\Temp\\ipykernel_21348\\1236850632.py:1: DeprecationWarning: executable_path has been deprecated, please pass in a Service object\n",
      "  wd = webdriver.Chrome(driver_path)\n"
     ]
    }
   ],
   "source": [
    "wd = webdriver.Chrome(driver_path)"
   ]
  },
  {
   "cell_type": "code",
   "execution_count": 9,
   "metadata": {},
   "outputs": [],
   "source": [
    "link = \"https://mail.tutanota.com/login?noAutoLogin=true&keepSession=true\""
   ]
  },
  {
   "cell_type": "code",
   "execution_count": 10,
   "metadata": {},
   "outputs": [],
   "source": [
    "wd.get(link)"
   ]
  },
  {
   "cell_type": "code",
   "execution_count": 19,
   "metadata": {},
   "outputs": [],
   "source": [
    "MORE_XPATH = \"/html/body/div/div[3]/div[2]/div/div[3]/div/button/small\"\n",
    "SIGNUP_XPATH = \"/html/body/div/div[3]/div[2]/div/div[4]/div/div/div/button[1]/div/div\"\n",
    "FREE_XPATH = \"/html/body/div/div[2]/div/div/div/div/div/div[2]/div/div/div/div[2]/div[1]/div/div[1]/div[5]/button/div\"\n",
    "AGREE_1_XAPTH = \"/html/body/div/div[2]/div[2]/div/div/div/div[2]/div[1]/div/div\"\n",
    "AGREE_2_XAPTH = \"/html/body/div/div[2]/div[2]/div/div/div/div[2]/div[2]\"\n",
    "AGREE_OK_XPATH = \"/html/body/div/div[2]/div[2]/div/div/div/div[3]/button[2]/div/div\"\n",
    "EMAIL_INPUT_XAPTH = \"/html/body/div/div[2]/div/div/div/div/div/div[2]/div/div/div[2]/div/div[1]/div/div/div/div[1]/input\"\n",
    "PASSWORD_INPUT_XAPTH = \"/html/body/div/div[2]/div/div/div/div/div/div[2]/div/div/div[2]/div/div[2]/div[1]/div/div/div/div[1]/input\"\n",
    "TERM_AGREE_XPATH = \"/html/body/div/div[2]/div/div/div/div/div/div[2]/div/div/div[2]/div/div[3]/div/input\"\n",
    "AGE_XPATH = \"/html/body/div/div[2]/div/div/div/div/div/div[2]/div/div/div[2]/div/div[4]/div/input\"\n",
    "NEXT1_BUTTON_XPATH = \"/html/body/div/div[2]/div/div/div/div/div/div[2]/div/div/div[2]/div/div[5]/button/div\"\n",
    "# Loading pop-up after clinking on next\n",
    "PREPEARING_XPATH = \"/html/body/div/div[2]/div[2]/div/div/div/div/p\"\n",
    "RECOVERYCODE_COPY_XPATH = \"/html/body/div/div[2]/div/div/div/div/div/div[2]/div/div/div[3]/div[3]/button[1]/div/span\"\n",
    "RECOVERY_OK_BUTTON_XPATH = \"/html/body/div/div[2]/div/div/div/div/div/div[2]/div/div/div[4]/div/button/div\"\n",
    "\n",
    "MESSAGE_TXT_XPATH = \"/html/body/div/div[2]/div/div/div/div/div/div[2]/div/div/div[2]/div/div[1]/small/div\"\n"
   ]
  },
  {
   "cell_type": "code",
   "execution_count": 12,
   "metadata": {},
   "outputs": [],
   "source": [
    "more_element = wd.find_element(by=By.XPATH, value=MORE_XPATH)\n",
    "more_element.click()"
   ]
  },
  {
   "cell_type": "code",
   "execution_count": 13,
   "metadata": {},
   "outputs": [],
   "source": [
    "signup_element = wd.find_element(by=By.XPATH, value=SIGNUP_XPATH)\n",
    "signup_element.click()"
   ]
  },
  {
   "cell_type": "code",
   "execution_count": 15,
   "metadata": {},
   "outputs": [],
   "source": [
    "time.sleep(2)\n",
    "free_element = wd.find_element(by=By.XPATH, value=FREE_XPATH)\n",
    "free_element.click()"
   ]
  },
  {
   "cell_type": "code",
   "execution_count": 16,
   "metadata": {},
   "outputs": [],
   "source": [
    "agree1_element = wd.find_element(by=By.XPATH, value=AGREE_1_XAPTH)\n",
    "agree1_element.click()\n",
    "agree2_element = wd.find_element(by=By.XPATH, value=AGREE_2_XAPTH)\n",
    "agree2_element.click()\n",
    "agreeok_element = wd.find_element(by=By.XPATH, value=AGREE_OK_XPATH)\n",
    "agreeok_element.click()"
   ]
  },
  {
   "cell_type": "code",
   "execution_count": 70,
   "metadata": {},
   "outputs": [],
   "source": [
    "def open_sign_up_page(wd, driver_path, login_link, more_xpath, signup_xpath, free_account_xpath, agree1_xpath, agree2_xpath, agree_ok_xpath):\n",
    "    wd.close()\n",
    "    wd = webdriver.Chrome(driver_path)\n",
    "    wd.get(login_link)\n",
    "    more_element = wd.find_element(by=By.XPATH, value=more_xpath)\n",
    "    more_element.click()\n",
    "    time.sleep(1)\n",
    "    signup_element = wd.find_element(by=By.XPATH, value=signup_xpath)\n",
    "    signup_element.click()\n",
    "    time.sleep(2)\n",
    "    free_element = wd.find_element(by=By.XPATH, value=free_account_xpath)\n",
    "    free_element.click()\n",
    "    time.sleep(1)\n",
    "    agree1_element = wd.find_element(by=By.XPATH, value=agree1_xpath)\n",
    "    agree1_element.click()\n",
    "    agree2_element = wd.find_element(by=By.XPATH, value=agree2_xpath)\n",
    "    agree2_element.click()\n",
    "    agreeok_element = wd.find_element(by=By.XPATH, value=agree_ok_xpath)\n",
    "    agreeok_element.click()\n",
    "    time.sleep(2)\n",
    "    return wd"
   ]
  },
  {
   "cell_type": "code",
   "execution_count": 20,
   "metadata": {},
   "outputs": [],
   "source": [
    "def get_message(wd, message_xpath):\n",
    "    message_txt_element = wd.find_element(by=By.XPATH, value=message_xpath)\n",
    "    message = message_txt_element.text\n",
    "    return message\n"
   ]
  },
  {
   "cell_type": "code",
   "execution_count": 56,
   "metadata": {},
   "outputs": [
    {
     "name": "stdout",
     "output_type": "stream",
     "text": [
      "Email address is not available.\n"
     ]
    }
   ],
   "source": [
    "msg = get_message(wd, MESSAGE_TXT_XPATH)\n",
    "\n",
    "email_id = \"qwerty9191\"\n",
    "password = \"Avenger123@\"\n",
    "\n",
    "email_input_element = wd.find_element(by=By.XPATH, value=EMAIL_INPUT_XAPTH)\n",
    "time.sleep(1)\n",
    "\n",
    "while email_input_element.get_attribute('value') !=\"\":\n",
    "    email_input_element.clear()\n",
    "email_input_element = wd.find_element(by=By.XPATH, value=EMAIL_INPUT_XAPTH)\n",
    "email_input_element.clear()\n",
    "email_input_element.send_keys(email_id)\n",
    "\n",
    "while True:\n",
    "    if \"Verifying\" not in msg and \"enter\" not in msg:\n",
    "        print(msg)\n",
    "        break\n",
    "    else:\n",
    "        print(msg)\n",
    "        time.sleep(1)\n",
    "        msg =get_message(wd, MESSAGE_TXT_XPATH)\n",
    "    "
   ]
  },
  {
   "cell_type": "code",
   "execution_count": 53,
   "metadata": {},
   "outputs": [],
   "source": [
    "password_input_element = wd.find_element(by=By.XPATH, value=PASSWORD_INPUT_XAPTH)\n",
    "password_input_element.send_keys(password)"
   ]
  },
  {
   "cell_type": "code",
   "execution_count": 44,
   "metadata": {},
   "outputs": [],
   "source": [
    "while email_input_element.get_attribute('value') !=\"\":\n",
    "    email_input_element.clear()"
   ]
  },
  {
   "cell_type": "code",
   "execution_count": 41,
   "metadata": {},
   "outputs": [
    {
     "data": {
      "text/plain": [
       "''"
      ]
     },
     "execution_count": 41,
     "metadata": {},
     "output_type": "execute_result"
    }
   ],
   "source": [
    "email_input_element.get_attribute('value')"
   ]
  },
  {
   "cell_type": "code",
   "execution_count": 17,
   "metadata": {},
   "outputs": [],
   "source": [
    "message_txt_element = wd.find_element(by=By.XPATH, value=MESSAGE_TXT_XPATH)\n",
    "message = message_txt_element.text"
   ]
  },
  {
   "cell_type": "code",
   "execution_count": 94,
   "metadata": {},
   "outputs": [],
   "source": [
    "with open(account_detail_json, \"r\") as json_file:\n",
    "    account_details = json.load(json_file)\n",
    "\n",
    "singel_account_info = {'email_id': email_id, 'password': password, 'recovery_code': '4234234234234'}\n",
    "account_details[\"All account\"][email_id] = singel_account_info\n",
    "\n",
    "json_object = json.dumps(account_details, indent=4)\n",
    "\n",
    "with open(account_detail_json, \"w\") as json_file:\n",
    "    json_file.write(json_object)\n"
   ]
  },
  {
   "cell_type": "code",
   "execution_count": 96,
   "metadata": {},
   "outputs": [
    {
     "name": "stderr",
     "output_type": "stream",
     "text": [
      "C:\\Users\\deepg\\AppData\\Local\\Temp\\ipykernel_21348\\2725775035.py:2: DeprecationWarning: executable_path has been deprecated, please pass in a Service object\n",
      "  wd = webdriver.Chrome(driver_path)\n"
     ]
    },
    {
     "name": "stdout",
     "output_type": "stream",
     "text": [
      "Enter password....\n",
      "Loading....\n",
      "Loading....\n",
      "Loading....\n",
      "Loading....\n",
      "Loading....\n",
      "Loading....\n",
      "Loading....\n",
      "Enter password....\n"
     ]
    },
    {
     "ename": "NoSuchElementException",
     "evalue": "Message: no such element: Unable to locate element: {\"method\":\"xpath\",\"selector\":\"/html/body/div/div[2]/div[2]/div/div/div/div/p\"}\n  (Session info: chrome=110.0.5481.178)\nStacktrace:\nBacktrace:\n\t(No symbol) [0x003137D3]\n\t(No symbol) [0x002A8B81]\n\t(No symbol) [0x001AB36D]\n\t(No symbol) [0x001DD382]\n\t(No symbol) [0x001DD4BB]\n\t(No symbol) [0x00213302]\n\t(No symbol) [0x001FB464]\n\t(No symbol) [0x00211215]\n\t(No symbol) [0x001FB216]\n\t(No symbol) [0x001D0D97]\n\t(No symbol) [0x001D253D]\n\tGetHandleVerifier [0x0058ABF2+2510930]\n\tGetHandleVerifier [0x005B8EC1+2700065]\n\tGetHandleVerifier [0x005BC86C+2714828]\n\tGetHandleVerifier [0x003C3480+645344]\n\t(No symbol) [0x002B0FD2]\n\t(No symbol) [0x002B6C68]\n\t(No symbol) [0x002B6D4B]\n\t(No symbol) [0x002C0D6B]\n\tBaseThreadInitThunk [0x76D37D69+25]\n\tRtlInitializeExceptionChain [0x77DBBB9B+107]\n\tRtlClearBits [0x77DBBB1F+191]\n\t(No symbol) [0x00000000]\n",
     "output_type": "error",
     "traceback": [
      "\u001b[1;31m---------------------------------------------------------------------------\u001b[0m",
      "\u001b[1;31mNoSuchElementException\u001b[0m                    Traceback (most recent call last)",
      "Cell \u001b[1;32mIn[96], line 45\u001b[0m\n\u001b[0;32m     43\u001b[0m next1_element\u001b[39m.\u001b[39mclick()\n\u001b[0;32m     44\u001b[0m time\u001b[39m.\u001b[39msleep(\u001b[39m2\u001b[39m)\n\u001b[1;32m---> 45\u001b[0m prepering_element \u001b[39m=\u001b[39m wd\u001b[39m.\u001b[39;49mfind_element(by\u001b[39m=\u001b[39;49mBy\u001b[39m.\u001b[39;49mXPATH, value\u001b[39m=\u001b[39;49mPREPEARING_XPATH)\n\u001b[0;32m     46\u001b[0m prep_counter \u001b[39m=\u001b[39m \u001b[39m0\u001b[39m\n\u001b[0;32m     47\u001b[0m \u001b[39mwhile\u001b[39;00m prepering_element:\n",
      "File \u001b[1;32mc:\\Users\\deepg\\OneDrive\\Documents\\Dev\\Instagram_scraping\\venv\\lib\\site-packages\\selenium\\webdriver\\remote\\webdriver.py:1251\u001b[0m, in \u001b[0;36mWebDriver.find_element\u001b[1;34m(self, by, value)\u001b[0m\n\u001b[0;32m   1248\u001b[0m     by \u001b[39m=\u001b[39m By\u001b[39m.\u001b[39mCSS_SELECTOR\n\u001b[0;32m   1249\u001b[0m     value \u001b[39m=\u001b[39m \u001b[39m'\u001b[39m\u001b[39m[name=\u001b[39m\u001b[39m\"\u001b[39m\u001b[39m%s\u001b[39;00m\u001b[39m\"\u001b[39m\u001b[39m]\u001b[39m\u001b[39m'\u001b[39m \u001b[39m%\u001b[39m value\n\u001b[1;32m-> 1251\u001b[0m \u001b[39mreturn\u001b[39;00m \u001b[39mself\u001b[39;49m\u001b[39m.\u001b[39;49mexecute(Command\u001b[39m.\u001b[39;49mFIND_ELEMENT, {\n\u001b[0;32m   1252\u001b[0m     \u001b[39m'\u001b[39;49m\u001b[39musing\u001b[39;49m\u001b[39m'\u001b[39;49m: by,\n\u001b[0;32m   1253\u001b[0m     \u001b[39m'\u001b[39;49m\u001b[39mvalue\u001b[39;49m\u001b[39m'\u001b[39;49m: value})[\u001b[39m'\u001b[39m\u001b[39mvalue\u001b[39m\u001b[39m'\u001b[39m]\n",
      "File \u001b[1;32mc:\\Users\\deepg\\OneDrive\\Documents\\Dev\\Instagram_scraping\\venv\\lib\\site-packages\\selenium\\webdriver\\remote\\webdriver.py:430\u001b[0m, in \u001b[0;36mWebDriver.execute\u001b[1;34m(self, driver_command, params)\u001b[0m\n\u001b[0;32m    428\u001b[0m response \u001b[39m=\u001b[39m \u001b[39mself\u001b[39m\u001b[39m.\u001b[39mcommand_executor\u001b[39m.\u001b[39mexecute(driver_command, params)\n\u001b[0;32m    429\u001b[0m \u001b[39mif\u001b[39;00m response:\n\u001b[1;32m--> 430\u001b[0m     \u001b[39mself\u001b[39;49m\u001b[39m.\u001b[39;49merror_handler\u001b[39m.\u001b[39;49mcheck_response(response)\n\u001b[0;32m    431\u001b[0m     response[\u001b[39m'\u001b[39m\u001b[39mvalue\u001b[39m\u001b[39m'\u001b[39m] \u001b[39m=\u001b[39m \u001b[39mself\u001b[39m\u001b[39m.\u001b[39m_unwrap_value(\n\u001b[0;32m    432\u001b[0m         response\u001b[39m.\u001b[39mget(\u001b[39m'\u001b[39m\u001b[39mvalue\u001b[39m\u001b[39m'\u001b[39m, \u001b[39mNone\u001b[39;00m))\n\u001b[0;32m    433\u001b[0m     \u001b[39mreturn\u001b[39;00m response\n",
      "File \u001b[1;32mc:\\Users\\deepg\\OneDrive\\Documents\\Dev\\Instagram_scraping\\venv\\lib\\site-packages\\selenium\\webdriver\\remote\\errorhandler.py:247\u001b[0m, in \u001b[0;36mErrorHandler.check_response\u001b[1;34m(self, response)\u001b[0m\n\u001b[0;32m    245\u001b[0m         alert_text \u001b[39m=\u001b[39m value[\u001b[39m'\u001b[39m\u001b[39malert\u001b[39m\u001b[39m'\u001b[39m]\u001b[39m.\u001b[39mget(\u001b[39m'\u001b[39m\u001b[39mtext\u001b[39m\u001b[39m'\u001b[39m)\n\u001b[0;32m    246\u001b[0m     \u001b[39mraise\u001b[39;00m exception_class(message, screen, stacktrace, alert_text)  \u001b[39m# type: ignore[call-arg]  # mypy is not smart enough here\u001b[39;00m\n\u001b[1;32m--> 247\u001b[0m \u001b[39mraise\u001b[39;00m exception_class(message, screen, stacktrace)\n",
      "\u001b[1;31mNoSuchElementException\u001b[0m: Message: no such element: Unable to locate element: {\"method\":\"xpath\",\"selector\":\"/html/body/div/div[2]/div[2]/div/div/div/div/p\"}\n  (Session info: chrome=110.0.5481.178)\nStacktrace:\nBacktrace:\n\t(No symbol) [0x003137D3]\n\t(No symbol) [0x002A8B81]\n\t(No symbol) [0x001AB36D]\n\t(No symbol) [0x001DD382]\n\t(No symbol) [0x001DD4BB]\n\t(No symbol) [0x00213302]\n\t(No symbol) [0x001FB464]\n\t(No symbol) [0x00211215]\n\t(No symbol) [0x001FB216]\n\t(No symbol) [0x001D0D97]\n\t(No symbol) [0x001D253D]\n\tGetHandleVerifier [0x0058ABF2+2510930]\n\tGetHandleVerifier [0x005B8EC1+2700065]\n\tGetHandleVerifier [0x005BC86C+2714828]\n\tGetHandleVerifier [0x003C3480+645344]\n\t(No symbol) [0x002B0FD2]\n\t(No symbol) [0x002B6C68]\n\t(No symbol) [0x002B6D4B]\n\t(No symbol) [0x002C0D6B]\n\tBaseThreadInitThunk [0x76D37D69+25]\n\tRtlInitializeExceptionChain [0x77DBBB9B+107]\n\tRtlClearBits [0x77DBBB1F+191]\n\t(No symbol) [0x00000000]\n"
     ]
    }
   ],
   "source": [
    "while True:\n",
    "    wd = webdriver.Chrome(driver_path)\n",
    "    wd.get(link)\n",
    "    more_element = wd.find_element(by=By.XPATH, value=MORE_XPATH)\n",
    "    more_element.click()\n",
    "    time.sleep(1)\n",
    "    signup_element = wd.find_element(by=By.XPATH, value=SIGNUP_XPATH)\n",
    "    signup_element.click()\n",
    "    time.sleep(2)\n",
    "    free_element = wd.find_element(by=By.XPATH, value=FREE_XPATH)\n",
    "    free_element.click()\n",
    "    time.sleep(1)\n",
    "    agree1_element = wd.find_element(by=By.XPATH, value=AGREE_1_XAPTH)\n",
    "    agree1_element.click()\n",
    "    agree2_element = wd.find_element(by=By.XPATH, value=AGREE_2_XAPTH)\n",
    "    agree2_element.click()\n",
    "    agreeok_element = wd.find_element(by=By.XPATH, value=AGREE_OK_XPATH)\n",
    "    agreeok_element.click()\n",
    "    time.sleep(3)\n",
    "    message_txt_element = wd.find_element(by=By.XPATH, value=MESSAGE_TXT_XPATH)\n",
    "    message = message_txt_element.text\n",
    "    email_id = generate_username()\n",
    "    password = generate_password()\n",
    "    domain=\"tutanota.com\"\n",
    "    if message==\"Please enter mail address.\":\n",
    "        email_input_element = wd.find_element(by=By.XPATH, value=EMAIL_INPUT_XAPTH)\n",
    "        time.sleep(1)\n",
    "        email_input_element.clear()\n",
    "        email_input_element.send_keys(email_id)\n",
    "        time.sleep(5)\n",
    "        message = get_message(wd, MESSAGE_TXT_XPATH)\n",
    "        if message == \"Email address is available.\":\n",
    "            print(\"Enter password....\")\n",
    "            password_input_element = wd.find_element(by=By.XPATH, value=PASSWORD_INPUT_XAPTH)\n",
    "            password_input_element.send_keys(password)\n",
    "            term_agree_element = wd.find_element(by=By.XPATH, value=TERM_AGREE_XPATH)\n",
    "            term_agree_element.click()\n",
    "            time.sleep(2)\n",
    "            age_element = wd.find_element(by=By.XPATH, value=AGE_XPATH)\n",
    "            age_element.click()\n",
    "            time.sleep(2)\n",
    "            next1_element = wd.find_element(by=By.XPATH, value=NEXT1_BUTTON_XPATH)\n",
    "            next1_element.click()\n",
    "            time.sleep(2)\n",
    "            prepering_element = wd.find_element(by=By.XPATH, value=PREPEARING_XPATH)\n",
    "            prep_counter = 0\n",
    "            while prepering_element:\n",
    "                print(\"Loading....\")\n",
    "                time.sleep(5)\n",
    "                \n",
    "                try:\n",
    "                    prepering_element = wd.find_element(by=By.XPATH, value=PREPEARING_XPATH)\n",
    "                except:\n",
    "                    break\n",
    "            recovery_code_copy_element = wd.find_element(by=By.XPATH, value=RECOVERYCODE_COPY_XPATH)\n",
    "            recovery_code_copy_element.click()\n",
    "            recovery_code = pyperclip.paste()\n",
    "            recovery_code_ok_element = wd.find_element(by=By.XPATH, value=RECOVERY_OK_BUTTON_XPATH)\n",
    "            recovery_code_ok_element.click()\n",
    "            with open(account_detail_json, \"r\") as json_file:\n",
    "                account_details = json.load(json_file)\n",
    "\n",
    "            singel_account_info = {\"email_id\":email_id+\"@\"+domain,\n",
    "                                   \"password\":password,\n",
    "                                   \"recovery_code\": recovery_code}\n",
    "            account_details[\"All account\"][email_id] = singel_account_info\n",
    "\n",
    "            json_object = json.dumps(account_details, indent=4)\n",
    "\n",
    "            with open(account_detail_json, \"w\") as json_file:\n",
    "                json_file.write(json_object)\n",
    "            wd.close()\n",
    "\n",
    "        elif message == \"Email address is not available.\":\n",
    "            wd.close()\n",
    "            time.sleep(5)\n",
    "    "
   ]
  },
  {
   "cell_type": "code",
   "execution_count": 22,
   "metadata": {},
   "outputs": [],
   "source": [
    "term_agree_element = wd.find_element(by=By.XPATH, value=TERM_AGREE_XPATH)\n",
    "term_agree_element.click()\n",
    "age_element = wd.find_element(by=By.XPATH, value=AGE_XPATH)\n",
    "age_element.click()\n"
   ]
  },
  {
   "cell_type": "code",
   "execution_count": 23,
   "metadata": {},
   "outputs": [],
   "source": [
    "next1_element = wd.find_element(by=By.XPATH, value=NEXT1_BUTTON_XPATH)\n",
    "next1_element.click()"
   ]
  },
  {
   "cell_type": "code",
   "execution_count": 28,
   "metadata": {},
   "outputs": [],
   "source": [
    "recovery_code_copy_element = wd.find_element(by=By.XPATH, value=RECOVERYCODE_COPY_XPATH)\n",
    "recovery_code_copy_element.click()"
   ]
  },
  {
   "cell_type": "code",
   "execution_count": 30,
   "metadata": {},
   "outputs": [
    {
     "data": {
      "text/plain": [
       "'ba8468e74154055fc59ed965db91159ea84334c7f4505416169639de9347902f'"
      ]
     },
     "execution_count": 30,
     "metadata": {},
     "output_type": "execute_result"
    }
   ],
   "source": [
    "recovery_code = pyperclip.paste()\n",
    "recovery_code"
   ]
  },
  {
   "cell_type": "code",
   "execution_count": 32,
   "metadata": {},
   "outputs": [],
   "source": [
    "recovery_code_ok_element = wd.find_element(by=By.XPATH, value=RECOVERY_OK_BUTTON_XPATH)\n",
    "recovery_code_ok_element.click()"
   ]
  },
  {
   "cell_type": "code",
   "execution_count": 34,
   "metadata": {},
   "outputs": [
    {
     "data": {
      "text/plain": [
       "'123456 this is your code'"
      ]
     },
     "execution_count": 34,
     "metadata": {},
     "output_type": "execute_result"
    }
   ],
   "source": [
    "FIRST_MAIL_SUBJECT_XPATH = \"/html/body/div/div[3]/div/div[2]/div[1]/div/div/div/div[2]/div/ul/li[1]/div/div[2]/div[2]/div\"\n",
    "subject_element = wd.find_element(by=By.XPATH, value=FIRST_MAIL_SUBJECT_XPATH)\n",
    "subject_element.text"
   ]
  },
  {
   "cell_type": "code",
   "execution_count": null,
   "metadata": {},
   "outputs": [],
   "source": []
  }
 ],
 "metadata": {
  "kernelspec": {
   "display_name": "venv",
   "language": "python",
   "name": "python3"
  },
  "language_info": {
   "codemirror_mode": {
    "name": "ipython",
    "version": 3
   },
   "file_extension": ".py",
   "mimetype": "text/x-python",
   "name": "python",
   "nbconvert_exporter": "python",
   "pygments_lexer": "ipython3",
   "version": "3.10.10"
  },
  "orig_nbformat": 4
 },
 "nbformat": 4,
 "nbformat_minor": 2
}
