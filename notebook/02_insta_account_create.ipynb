{
 "cells": [
  {
   "cell_type": "code",
   "execution_count": 1,
   "metadata": {},
   "outputs": [],
   "source": [
    "from selenium import webdriver \n",
    "from selenium.webdriver.common.by import By "
   ]
  },
  {
   "cell_type": "code",
   "execution_count": 2,
   "metadata": {},
   "outputs": [],
   "source": [
    "insta_link = \"https://www.instagram.com/accounts/emailsignup/\""
   ]
  },
  {
   "cell_type": "code",
   "execution_count": 4,
   "metadata": {},
   "outputs": [
    {
     "name": "stderr",
     "output_type": "stream",
     "text": [
      "C:\\Users\\deepg\\AppData\\Local\\Temp\\ipykernel_7544\\249298303.py:2: DeprecationWarning: executable_path has been deprecated, please pass in a Service object\n",
      "  driver = webdriver.Chrome(chromedriver_path)\n"
     ]
    }
   ],
   "source": [
    "chromedriver_path = \"../chromedriver.exe\"\n",
    "driver = webdriver.Chrome(chromedriver_path)"
   ]
  },
  {
   "cell_type": "code",
   "execution_count": 5,
   "metadata": {},
   "outputs": [],
   "source": [
    "driver.get(insta_link)"
   ]
  },
  {
   "cell_type": "code",
   "execution_count": null,
   "metadata": {},
   "outputs": [],
   "source": [
    "EMAILINPUT_XPATH = \"/html/body/div[2]/div/div/div[1]/div/div/div/div[1]/section/main/div/div/div[1]/div[2]/form/div[3]/div/label/input\"\n",
    "FULLNAMEINPUT_XPATH = \"/html/body/div[2]/div/div/div[1]/div/div/div/div[1]/section/main/div/div/div[1]/div[2]/form/div[4]/div/label/input\"\n",
    "USERNAMEINPUT_XPATH = \"/html/body/div[2]/div/div/div[1]/div/div/div/div[1]/section/main/div/div/div[1]/div[2]/form/div[5]/div/label/input\"\n",
    "PASSWORDINPUT_XPATH = \"\"\n",
    "SIGNUPBUTTON_XPATH = \"\""
   ]
  },
  {
   "cell_type": "code",
   "execution_count": 14,
   "metadata": {},
   "outputs": [
    {
     "name": "stderr",
     "output_type": "stream",
     "text": [
      "C:\\Users\\deepg\\AppData\\Local\\Temp\\ipykernel_7544\\3190757348.py:12: DeprecationWarning: executable_path has been deprecated, please pass in a Service object\n",
      "  browser = webdriver.Chrome(chromedriver_path)\n",
      "C:\\Users\\deepg\\AppData\\Local\\Temp\\ipykernel_7544\\3190757348.py:19: DeprecationWarning: find_element_by_name is deprecated. Please use find_element(by=By.NAME, value=name) instead\n",
      "  email_input = browser.find_element_by_name(\"emailOrPhone\")\n",
      "C:\\Users\\deepg\\AppData\\Local\\Temp\\ipykernel_7544\\3190757348.py:22: DeprecationWarning: find_element_by_name is deprecated. Please use find_element(by=By.NAME, value=name) instead\n",
      "  fullname_input = browser.find_element_by_name(\"fullName\")\n",
      "C:\\Users\\deepg\\AppData\\Local\\Temp\\ipykernel_7544\\3190757348.py:25: DeprecationWarning: find_element_by_name is deprecated. Please use find_element(by=By.NAME, value=name) instead\n",
      "  username_input = browser.find_element_by_name(\"username\")\n",
      "C:\\Users\\deepg\\AppData\\Local\\Temp\\ipykernel_7544\\3190757348.py:34: DeprecationWarning: find_element_by_name is deprecated. Please use find_element(by=By.NAME, value=name) instead\n",
      "  password_input = browser.find_element_by_name(\"password\")\n",
      "C:\\Users\\deepg\\AppData\\Local\\Temp\\ipykernel_7544\\3190757348.py:38: DeprecationWarning: find_element_by_css_selector is deprecated. Please use find_element(by=By.CSS_SELECTOR, value=css_selector) instead\n",
      "  sign_up_button = browser.find_element_by_css_selector(\"button[type='submit']\")\n",
      "C:\\Users\\deepg\\AppData\\Local\\Temp\\ipykernel_7544\\3190757348.py:45: DeprecationWarning: find_element_by_xpath is deprecated. Please use find_element(by=By.XPATH, value=xpath) instead\n",
      "  not_now_button = browser.find_element_by_xpath(\"//button[text()='Not Now']\")\n"
     ]
    },
    {
     "ename": "NoSuchElementException",
     "evalue": "Message: no such element: Unable to locate element: {\"method\":\"xpath\",\"selector\":\"//button[text()='Not Now']\"}\n  (Session info: chrome=110.0.5481.178)\nStacktrace:\nBacktrace:\n\t(No symbol) [0x003E37D3]\n\t(No symbol) [0x00378B81]\n\t(No symbol) [0x0027B36D]\n\t(No symbol) [0x002AD382]\n\t(No symbol) [0x002AD4BB]\n\t(No symbol) [0x002E3302]\n\t(No symbol) [0x002CB464]\n\t(No symbol) [0x002E1215]\n\t(No symbol) [0x002CB216]\n\t(No symbol) [0x002A0D97]\n\t(No symbol) [0x002A253D]\n\tGetHandleVerifier [0x0065ABF2+2510930]\n\tGetHandleVerifier [0x00688EC1+2700065]\n\tGetHandleVerifier [0x0068C86C+2714828]\n\tGetHandleVerifier [0x00493480+645344]\n\t(No symbol) [0x00380FD2]\n\t(No symbol) [0x00386C68]\n\t(No symbol) [0x00386D4B]\n\t(No symbol) [0x00390D6B]\n\tBaseThreadInitThunk [0x75727D69+25]\n\tRtlInitializeExceptionChain [0x777DBB9B+107]\n\tRtlClearBits [0x777DBB1F+191]\n",
     "output_type": "error",
     "traceback": [
      "\u001b[1;31m---------------------------------------------------------------------------\u001b[0m",
      "\u001b[1;31mNoSuchElementException\u001b[0m                    Traceback (most recent call last)",
      "Cell \u001b[1;32mIn[14], line 45\u001b[0m\n\u001b[0;32m     42\u001b[0m time\u001b[39m.\u001b[39msleep(\u001b[39m2\u001b[39m)\n\u001b[0;32m     44\u001b[0m \u001b[39m# Click the \"Not Now\" button to skip adding friends\u001b[39;00m\n\u001b[1;32m---> 45\u001b[0m not_now_button \u001b[39m=\u001b[39m browser\u001b[39m.\u001b[39;49mfind_element_by_xpath(\u001b[39m\"\u001b[39;49m\u001b[39m//button[text()=\u001b[39;49m\u001b[39m'\u001b[39;49m\u001b[39mNot Now\u001b[39;49m\u001b[39m'\u001b[39;49m\u001b[39m]\u001b[39;49m\u001b[39m\"\u001b[39;49m)\n\u001b[0;32m     46\u001b[0m not_now_button\u001b[39m.\u001b[39mclick()\n\u001b[0;32m     48\u001b[0m \u001b[39m# Wait for the next page to load\u001b[39;00m\n",
      "File \u001b[1;32mc:\\Users\\deepg\\OneDrive\\Documents\\Dev\\Instagram_scraping\\venv\\lib\\site-packages\\selenium\\webdriver\\remote\\webdriver.py:526\u001b[0m, in \u001b[0;36mWebDriver.find_element_by_xpath\u001b[1;34m(self, xpath)\u001b[0m\n\u001b[0;32m    504\u001b[0m \u001b[39m\u001b[39m\u001b[39m\"\"\"\u001b[39;00m\n\u001b[0;32m    505\u001b[0m \u001b[39mFinds an element by xpath.\u001b[39;00m\n\u001b[0;32m    506\u001b[0m \n\u001b[1;32m   (...)\u001b[0m\n\u001b[0;32m    519\u001b[0m \u001b[39m        element = driver.find_element_by_xpath('//div/td[1]')\u001b[39;00m\n\u001b[0;32m    520\u001b[0m \u001b[39m\"\"\"\u001b[39;00m\n\u001b[0;32m    521\u001b[0m warnings\u001b[39m.\u001b[39mwarn(\n\u001b[0;32m    522\u001b[0m     \u001b[39m\"\u001b[39m\u001b[39mfind_element_by_xpath is deprecated. Please use find_element(by=By.XPATH, value=xpath) instead\u001b[39m\u001b[39m\"\u001b[39m,\n\u001b[0;32m    523\u001b[0m     \u001b[39mDeprecationWarning\u001b[39;00m,\n\u001b[0;32m    524\u001b[0m     stacklevel\u001b[39m=\u001b[39m\u001b[39m2\u001b[39m,\n\u001b[0;32m    525\u001b[0m )\n\u001b[1;32m--> 526\u001b[0m \u001b[39mreturn\u001b[39;00m \u001b[39mself\u001b[39;49m\u001b[39m.\u001b[39;49mfind_element(by\u001b[39m=\u001b[39;49mBy\u001b[39m.\u001b[39;49mXPATH, value\u001b[39m=\u001b[39;49mxpath)\n",
      "File \u001b[1;32mc:\\Users\\deepg\\OneDrive\\Documents\\Dev\\Instagram_scraping\\venv\\lib\\site-packages\\selenium\\webdriver\\remote\\webdriver.py:1251\u001b[0m, in \u001b[0;36mWebDriver.find_element\u001b[1;34m(self, by, value)\u001b[0m\n\u001b[0;32m   1248\u001b[0m     by \u001b[39m=\u001b[39m By\u001b[39m.\u001b[39mCSS_SELECTOR\n\u001b[0;32m   1249\u001b[0m     value \u001b[39m=\u001b[39m \u001b[39m'\u001b[39m\u001b[39m[name=\u001b[39m\u001b[39m\"\u001b[39m\u001b[39m%s\u001b[39;00m\u001b[39m\"\u001b[39m\u001b[39m]\u001b[39m\u001b[39m'\u001b[39m \u001b[39m%\u001b[39m value\n\u001b[1;32m-> 1251\u001b[0m \u001b[39mreturn\u001b[39;00m \u001b[39mself\u001b[39;49m\u001b[39m.\u001b[39;49mexecute(Command\u001b[39m.\u001b[39;49mFIND_ELEMENT, {\n\u001b[0;32m   1252\u001b[0m     \u001b[39m'\u001b[39;49m\u001b[39musing\u001b[39;49m\u001b[39m'\u001b[39;49m: by,\n\u001b[0;32m   1253\u001b[0m     \u001b[39m'\u001b[39;49m\u001b[39mvalue\u001b[39;49m\u001b[39m'\u001b[39;49m: value})[\u001b[39m'\u001b[39m\u001b[39mvalue\u001b[39m\u001b[39m'\u001b[39m]\n",
      "File \u001b[1;32mc:\\Users\\deepg\\OneDrive\\Documents\\Dev\\Instagram_scraping\\venv\\lib\\site-packages\\selenium\\webdriver\\remote\\webdriver.py:430\u001b[0m, in \u001b[0;36mWebDriver.execute\u001b[1;34m(self, driver_command, params)\u001b[0m\n\u001b[0;32m    428\u001b[0m response \u001b[39m=\u001b[39m \u001b[39mself\u001b[39m\u001b[39m.\u001b[39mcommand_executor\u001b[39m.\u001b[39mexecute(driver_command, params)\n\u001b[0;32m    429\u001b[0m \u001b[39mif\u001b[39;00m response:\n\u001b[1;32m--> 430\u001b[0m     \u001b[39mself\u001b[39;49m\u001b[39m.\u001b[39;49merror_handler\u001b[39m.\u001b[39;49mcheck_response(response)\n\u001b[0;32m    431\u001b[0m     response[\u001b[39m'\u001b[39m\u001b[39mvalue\u001b[39m\u001b[39m'\u001b[39m] \u001b[39m=\u001b[39m \u001b[39mself\u001b[39m\u001b[39m.\u001b[39m_unwrap_value(\n\u001b[0;32m    432\u001b[0m         response\u001b[39m.\u001b[39mget(\u001b[39m'\u001b[39m\u001b[39mvalue\u001b[39m\u001b[39m'\u001b[39m, \u001b[39mNone\u001b[39;00m))\n\u001b[0;32m    433\u001b[0m     \u001b[39mreturn\u001b[39;00m response\n",
      "File \u001b[1;32mc:\\Users\\deepg\\OneDrive\\Documents\\Dev\\Instagram_scraping\\venv\\lib\\site-packages\\selenium\\webdriver\\remote\\errorhandler.py:247\u001b[0m, in \u001b[0;36mErrorHandler.check_response\u001b[1;34m(self, response)\u001b[0m\n\u001b[0;32m    245\u001b[0m         alert_text \u001b[39m=\u001b[39m value[\u001b[39m'\u001b[39m\u001b[39malert\u001b[39m\u001b[39m'\u001b[39m]\u001b[39m.\u001b[39mget(\u001b[39m'\u001b[39m\u001b[39mtext\u001b[39m\u001b[39m'\u001b[39m)\n\u001b[0;32m    246\u001b[0m     \u001b[39mraise\u001b[39;00m exception_class(message, screen, stacktrace, alert_text)  \u001b[39m# type: ignore[call-arg]  # mypy is not smart enough here\u001b[39;00m\n\u001b[1;32m--> 247\u001b[0m \u001b[39mraise\u001b[39;00m exception_class(message, screen, stacktrace)\n",
      "\u001b[1;31mNoSuchElementException\u001b[0m: Message: no such element: Unable to locate element: {\"method\":\"xpath\",\"selector\":\"//button[text()='Not Now']\"}\n  (Session info: chrome=110.0.5481.178)\nStacktrace:\nBacktrace:\n\t(No symbol) [0x003E37D3]\n\t(No symbol) [0x00378B81]\n\t(No symbol) [0x0027B36D]\n\t(No symbol) [0x002AD382]\n\t(No symbol) [0x002AD4BB]\n\t(No symbol) [0x002E3302]\n\t(No symbol) [0x002CB464]\n\t(No symbol) [0x002E1215]\n\t(No symbol) [0x002CB216]\n\t(No symbol) [0x002A0D97]\n\t(No symbol) [0x002A253D]\n\tGetHandleVerifier [0x0065ABF2+2510930]\n\tGetHandleVerifier [0x00688EC1+2700065]\n\tGetHandleVerifier [0x0068C86C+2714828]\n\tGetHandleVerifier [0x00493480+645344]\n\t(No symbol) [0x00380FD2]\n\t(No symbol) [0x00386C68]\n\t(No symbol) [0x00386D4B]\n\t(No symbol) [0x00390D6B]\n\tBaseThreadInitThunk [0x75727D69+25]\n\tRtlInitializeExceptionChain [0x777DBB9B+107]\n\tRtlClearBits [0x777DBB1F+191]\n"
     ]
    }
   ],
   "source": [
    "from selenium import webdriver\n",
    "from selenium.webdriver.common.keys import Keys\n",
    "import time\n",
    "\n",
    "# Replace with your own details\n",
    "username = \"qwertyuiop9191\"\n",
    "password = \"qwerty123!\"\n",
    "email = \"qwertyuiop9191@eurokool.com\"\n",
    "fullname = \"qwertyuiop9191\"\n",
    "\n",
    "# Start the browser and go to the Instagram sign up page\n",
    "browser = webdriver.Chrome(chromedriver_path)\n",
    "browser.get(\"https://www.instagram.com/accounts/emailsignup/\")\n",
    "\n",
    "# Wait for the page to load\n",
    "time.sleep(2)\n",
    "\n",
    "# Find the form fields and enter the details\n",
    "email_input = browser.find_element_by_name(\"emailOrPhone\")\n",
    "email_input.send_keys(email)\n",
    "\n",
    "fullname_input = browser.find_element_by_name(\"fullName\")\n",
    "fullname_input.send_keys(fullname)\n",
    "\n",
    "username_input = browser.find_element_by_name(\"username\")\n",
    "username_input.send_keys(username)\n",
    "\n",
    "# Check if the chosen username is available\n",
    "#check_username_button = browser.find_element_by_xpath(\"//button[text()='Check']\")\n",
    "#check_username_button.click()\n",
    "\n",
    "time.sleep(2)\n",
    "\n",
    "password_input = browser.find_element_by_name(\"password\")\n",
    "password_input.send_keys(password)\n",
    "\n",
    "# Click the sign up button\n",
    "sign_up_button = browser.find_element_by_css_selector(\"button[type='submit']\")\n",
    "sign_up_button.click()\n",
    "\n",
    "# Wait for the next page to load\n",
    "time.sleep(2)\n",
    "\n",
    "# Click the \"Not Now\" button to skip adding friends\n",
    "not_now_button = browser.find_element_by_xpath(\"//button[text()='Not Now']\")\n",
    "not_now_button.click()\n",
    "\n",
    "# Wait for the next page to load\n",
    "time.sleep(2)\n",
    "\n",
    "# Click the \"Skip\" button to skip setting up your profile\n",
    "skip_button = browser.find_element_by_xpath(\"//button[text()='Skip']\")\n",
    "skip_button.click()\n",
    "\n",
    "# Wait for the next page to load\n",
    "time.sleep(2)\n",
    "\n",
    "# Close the browser\n",
    "browser.close()\n"
   ]
  },
  {
   "cell_type": "code",
   "execution_count": 13,
   "metadata": {},
   "outputs": [
    {
     "name": "stderr",
     "output_type": "stream",
     "text": [
      "C:\\Users\\deepg\\AppData\\Local\\Temp\\ipykernel_7544\\3643085451.py:1: DeprecationWarning: find_element_by_* commands are deprecated. Please use find_element() instead\n",
      "  not_available_ele = browser.find_element_by_id(\"ssfErrorAlert\")\n"
     ]
    },
    {
     "ename": "NoSuchElementException",
     "evalue": "Message: no such element: Unable to locate element: {\"method\":\"css selector\",\"selector\":\"[id=\"ssfErrorAlert\"]\"}\n  (Session info: chrome=110.0.5481.178)\nStacktrace:\nBacktrace:\n\t(No symbol) [0x003E37D3]\n\t(No symbol) [0x00378B81]\n\t(No symbol) [0x0027B36D]\n\t(No symbol) [0x002AD382]\n\t(No symbol) [0x002AD4BB]\n\t(No symbol) [0x002E3302]\n\t(No symbol) [0x002CB464]\n\t(No symbol) [0x002E1215]\n\t(No symbol) [0x002CB216]\n\t(No symbol) [0x002A0D97]\n\t(No symbol) [0x002A253D]\n\tGetHandleVerifier [0x0065ABF2+2510930]\n\tGetHandleVerifier [0x00688EC1+2700065]\n\tGetHandleVerifier [0x0068C86C+2714828]\n\tGetHandleVerifier [0x00493480+645344]\n\t(No symbol) [0x00380FD2]\n\t(No symbol) [0x00386C68]\n\t(No symbol) [0x00386D4B]\n\t(No symbol) [0x00390D6B]\n\tBaseThreadInitThunk [0x75727D69+25]\n\tRtlInitializeExceptionChain [0x777DBB9B+107]\n\tRtlClearBits [0x777DBB1F+191]\n",
     "output_type": "error",
     "traceback": [
      "\u001b[1;31m---------------------------------------------------------------------------\u001b[0m",
      "\u001b[1;31mNoSuchElementException\u001b[0m                    Traceback (most recent call last)",
      "Cell \u001b[1;32mIn[13], line 1\u001b[0m\n\u001b[1;32m----> 1\u001b[0m not_available_ele \u001b[39m=\u001b[39m browser\u001b[39m.\u001b[39;49mfind_element_by_id(\u001b[39m\"\u001b[39;49m\u001b[39mssfErrorAlert\u001b[39;49m\u001b[39m\"\u001b[39;49m)\n\u001b[0;32m      2\u001b[0m not_available_ele\u001b[39m.\u001b[39mtext\n",
      "File \u001b[1;32mc:\\Users\\deepg\\OneDrive\\Documents\\Dev\\Instagram_scraping\\venv\\lib\\site-packages\\selenium\\webdriver\\remote\\webdriver.py:478\u001b[0m, in \u001b[0;36mWebDriver.find_element_by_id\u001b[1;34m(self, id_)\u001b[0m\n\u001b[0;32m    457\u001b[0m \u001b[39m\u001b[39m\u001b[39m\"\"\"Finds an element by id.\u001b[39;00m\n\u001b[0;32m    458\u001b[0m \n\u001b[0;32m    459\u001b[0m \u001b[39m:Args:\u001b[39;00m\n\u001b[1;32m   (...)\u001b[0m\n\u001b[0;32m    471\u001b[0m \u001b[39m        element = driver.find_element_by_id('foo')\u001b[39;00m\n\u001b[0;32m    472\u001b[0m \u001b[39m\"\"\"\u001b[39;00m\n\u001b[0;32m    473\u001b[0m warnings\u001b[39m.\u001b[39mwarn(\n\u001b[0;32m    474\u001b[0m     \u001b[39m\"\u001b[39m\u001b[39mfind_element_by_* commands are deprecated. Please use find_element() instead\u001b[39m\u001b[39m\"\u001b[39m,\n\u001b[0;32m    475\u001b[0m     \u001b[39mDeprecationWarning\u001b[39;00m,\n\u001b[0;32m    476\u001b[0m     stacklevel\u001b[39m=\u001b[39m\u001b[39m2\u001b[39m,\n\u001b[0;32m    477\u001b[0m )\n\u001b[1;32m--> 478\u001b[0m \u001b[39mreturn\u001b[39;00m \u001b[39mself\u001b[39;49m\u001b[39m.\u001b[39;49mfind_element(by\u001b[39m=\u001b[39;49mBy\u001b[39m.\u001b[39;49mID, value\u001b[39m=\u001b[39;49mid_)\n",
      "File \u001b[1;32mc:\\Users\\deepg\\OneDrive\\Documents\\Dev\\Instagram_scraping\\venv\\lib\\site-packages\\selenium\\webdriver\\remote\\webdriver.py:1251\u001b[0m, in \u001b[0;36mWebDriver.find_element\u001b[1;34m(self, by, value)\u001b[0m\n\u001b[0;32m   1248\u001b[0m     by \u001b[39m=\u001b[39m By\u001b[39m.\u001b[39mCSS_SELECTOR\n\u001b[0;32m   1249\u001b[0m     value \u001b[39m=\u001b[39m \u001b[39m'\u001b[39m\u001b[39m[name=\u001b[39m\u001b[39m\"\u001b[39m\u001b[39m%s\u001b[39;00m\u001b[39m\"\u001b[39m\u001b[39m]\u001b[39m\u001b[39m'\u001b[39m \u001b[39m%\u001b[39m value\n\u001b[1;32m-> 1251\u001b[0m \u001b[39mreturn\u001b[39;00m \u001b[39mself\u001b[39;49m\u001b[39m.\u001b[39;49mexecute(Command\u001b[39m.\u001b[39;49mFIND_ELEMENT, {\n\u001b[0;32m   1252\u001b[0m     \u001b[39m'\u001b[39;49m\u001b[39musing\u001b[39;49m\u001b[39m'\u001b[39;49m: by,\n\u001b[0;32m   1253\u001b[0m     \u001b[39m'\u001b[39;49m\u001b[39mvalue\u001b[39;49m\u001b[39m'\u001b[39;49m: value})[\u001b[39m'\u001b[39m\u001b[39mvalue\u001b[39m\u001b[39m'\u001b[39m]\n",
      "File \u001b[1;32mc:\\Users\\deepg\\OneDrive\\Documents\\Dev\\Instagram_scraping\\venv\\lib\\site-packages\\selenium\\webdriver\\remote\\webdriver.py:430\u001b[0m, in \u001b[0;36mWebDriver.execute\u001b[1;34m(self, driver_command, params)\u001b[0m\n\u001b[0;32m    428\u001b[0m response \u001b[39m=\u001b[39m \u001b[39mself\u001b[39m\u001b[39m.\u001b[39mcommand_executor\u001b[39m.\u001b[39mexecute(driver_command, params)\n\u001b[0;32m    429\u001b[0m \u001b[39mif\u001b[39;00m response:\n\u001b[1;32m--> 430\u001b[0m     \u001b[39mself\u001b[39;49m\u001b[39m.\u001b[39;49merror_handler\u001b[39m.\u001b[39;49mcheck_response(response)\n\u001b[0;32m    431\u001b[0m     response[\u001b[39m'\u001b[39m\u001b[39mvalue\u001b[39m\u001b[39m'\u001b[39m] \u001b[39m=\u001b[39m \u001b[39mself\u001b[39m\u001b[39m.\u001b[39m_unwrap_value(\n\u001b[0;32m    432\u001b[0m         response\u001b[39m.\u001b[39mget(\u001b[39m'\u001b[39m\u001b[39mvalue\u001b[39m\u001b[39m'\u001b[39m, \u001b[39mNone\u001b[39;00m))\n\u001b[0;32m    433\u001b[0m     \u001b[39mreturn\u001b[39;00m response\n",
      "File \u001b[1;32mc:\\Users\\deepg\\OneDrive\\Documents\\Dev\\Instagram_scraping\\venv\\lib\\site-packages\\selenium\\webdriver\\remote\\errorhandler.py:247\u001b[0m, in \u001b[0;36mErrorHandler.check_response\u001b[1;34m(self, response)\u001b[0m\n\u001b[0;32m    245\u001b[0m         alert_text \u001b[39m=\u001b[39m value[\u001b[39m'\u001b[39m\u001b[39malert\u001b[39m\u001b[39m'\u001b[39m]\u001b[39m.\u001b[39mget(\u001b[39m'\u001b[39m\u001b[39mtext\u001b[39m\u001b[39m'\u001b[39m)\n\u001b[0;32m    246\u001b[0m     \u001b[39mraise\u001b[39;00m exception_class(message, screen, stacktrace, alert_text)  \u001b[39m# type: ignore[call-arg]  # mypy is not smart enough here\u001b[39;00m\n\u001b[1;32m--> 247\u001b[0m \u001b[39mraise\u001b[39;00m exception_class(message, screen, stacktrace)\n",
      "\u001b[1;31mNoSuchElementException\u001b[0m: Message: no such element: Unable to locate element: {\"method\":\"css selector\",\"selector\":\"[id=\"ssfErrorAlert\"]\"}\n  (Session info: chrome=110.0.5481.178)\nStacktrace:\nBacktrace:\n\t(No symbol) [0x003E37D3]\n\t(No symbol) [0x00378B81]\n\t(No symbol) [0x0027B36D]\n\t(No symbol) [0x002AD382]\n\t(No symbol) [0x002AD4BB]\n\t(No symbol) [0x002E3302]\n\t(No symbol) [0x002CB464]\n\t(No symbol) [0x002E1215]\n\t(No symbol) [0x002CB216]\n\t(No symbol) [0x002A0D97]\n\t(No symbol) [0x002A253D]\n\tGetHandleVerifier [0x0065ABF2+2510930]\n\tGetHandleVerifier [0x00688EC1+2700065]\n\tGetHandleVerifier [0x0068C86C+2714828]\n\tGetHandleVerifier [0x00493480+645344]\n\t(No symbol) [0x00380FD2]\n\t(No symbol) [0x00386C68]\n\t(No symbol) [0x00386D4B]\n\t(No symbol) [0x00390D6B]\n\tBaseThreadInitThunk [0x75727D69+25]\n\tRtlInitializeExceptionChain [0x777DBB9B+107]\n\tRtlClearBits [0x777DBB1F+191]\n"
     ]
    }
   ],
   "source": [
    "not_available_ele = browser.find_element_by_id(\"ssfErrorAlert\")\n",
    "not_available_ele.text"
   ]
  },
  {
   "cell_type": "code",
   "execution_count": 15,
   "metadata": {},
   "outputs": [],
   "source": [
    "username_input.clear()"
   ]
  },
  {
   "cell_type": "code",
   "execution_count": 27,
   "metadata": {},
   "outputs": [
    {
     "name": "stderr",
     "output_type": "stream",
     "text": [
      "C:\\Users\\deepg\\AppData\\Local\\Temp\\ipykernel_7544\\3586711934.py:14: DeprecationWarning: executable_path has been deprecated, please pass in a Service object\n",
      "  browser = webdriver.Chrome(chromedriver_path)\n",
      "C:\\Users\\deepg\\AppData\\Local\\Temp\\ipykernel_7544\\3586711934.py:21: DeprecationWarning: find_element_by_name is deprecated. Please use find_element(by=By.NAME, value=name) instead\n",
      "  email_input = browser.find_element_by_name(\"emailOrPhone\")\n",
      "C:\\Users\\deepg\\AppData\\Local\\Temp\\ipykernel_7544\\3586711934.py:24: DeprecationWarning: find_element_by_name is deprecated. Please use find_element(by=By.NAME, value=name) instead\n",
      "  fullname_input = browser.find_element_by_name(\"fullName\")\n",
      "C:\\Users\\deepg\\AppData\\Local\\Temp\\ipykernel_7544\\3586711934.py:27: DeprecationWarning: find_element_by_name is deprecated. Please use find_element(by=By.NAME, value=name) instead\n",
      "  username_input = browser.find_element_by_name(\"username\")\n",
      "C:\\Users\\deepg\\AppData\\Local\\Temp\\ipykernel_7544\\3586711934.py:36: DeprecationWarning: find_element_by_name is deprecated. Please use find_element(by=By.NAME, value=name) instead\n",
      "  password_input = browser.find_element_by_name(\"password\")\n",
      "C:\\Users\\deepg\\AppData\\Local\\Temp\\ipykernel_7544\\3586711934.py:40: DeprecationWarning: find_element_by_css_selector is deprecated. Please use find_element(by=By.CSS_SELECTOR, value=css_selector) instead\n",
      "  sign_up_button = browser.find_element_by_css_selector(\"button[type='submit']\")\n"
     ]
    },
    {
     "name": "stdout",
     "output_type": "stream",
     "text": [
      "Cleared=================================qwertyuiop91919\n"
     ]
    },
    {
     "name": "stderr",
     "output_type": "stream",
     "text": [
      "C:\\Users\\deepg\\AppData\\Local\\Temp\\ipykernel_7544\\3586711934.py:47: DeprecationWarning: find_element_by_* commands are deprecated. Please use find_element() instead\n",
      "  not_available_ele = browser.find_element_by_id(\"ssfErrorAlert\")\n",
      "C:\\Users\\deepg\\AppData\\Local\\Temp\\ipykernel_7544\\3586711934.py:62: DeprecationWarning: find_element_by_xpath is deprecated. Please use find_element(by=By.XPATH, value=xpath) instead\n",
      "  not_now_button = browser.find_element_by_xpath(\"//button[text()='Not Now']\")\n"
     ]
    },
    {
     "ename": "NoSuchElementException",
     "evalue": "Message: no such element: Unable to locate element: {\"method\":\"xpath\",\"selector\":\"//button[text()='Not Now']\"}\n  (Session info: chrome=110.0.5481.178)\nStacktrace:\nBacktrace:\n\t(No symbol) [0x003E37D3]\n\t(No symbol) [0x00378B81]\n\t(No symbol) [0x0027B36D]\n\t(No symbol) [0x002AD382]\n\t(No symbol) [0x002AD4BB]\n\t(No symbol) [0x002E3302]\n\t(No symbol) [0x002CB464]\n\t(No symbol) [0x002E1215]\n\t(No symbol) [0x002CB216]\n\t(No symbol) [0x002A0D97]\n\t(No symbol) [0x002A253D]\n\tGetHandleVerifier [0x0065ABF2+2510930]\n\tGetHandleVerifier [0x00688EC1+2700065]\n\tGetHandleVerifier [0x0068C86C+2714828]\n\tGetHandleVerifier [0x00493480+645344]\n\t(No symbol) [0x00380FD2]\n\t(No symbol) [0x00386C68]\n\t(No symbol) [0x00386D4B]\n\t(No symbol) [0x00390D6B]\n\tBaseThreadInitThunk [0x75727D69+25]\n\tRtlInitializeExceptionChain [0x777DBB9B+107]\n\tRtlClearBits [0x777DBB1F+191]\n",
     "output_type": "error",
     "traceback": [
      "\u001b[1;31m---------------------------------------------------------------------------\u001b[0m",
      "\u001b[1;31mNoSuchElementException\u001b[0m                    Traceback (most recent call last)",
      "Cell \u001b[1;32mIn[27], line 62\u001b[0m\n\u001b[0;32m     57\u001b[0m         \u001b[39mpass\u001b[39;00m\n\u001b[0;32m     61\u001b[0m \u001b[39m# Click the \"Not Now\" button to skip adding friends\u001b[39;00m\n\u001b[1;32m---> 62\u001b[0m not_now_button \u001b[39m=\u001b[39m browser\u001b[39m.\u001b[39;49mfind_element_by_xpath(\u001b[39m\"\u001b[39;49m\u001b[39m//button[text()=\u001b[39;49m\u001b[39m'\u001b[39;49m\u001b[39mNot Now\u001b[39;49m\u001b[39m'\u001b[39;49m\u001b[39m]\u001b[39;49m\u001b[39m\"\u001b[39;49m)\n\u001b[0;32m     63\u001b[0m not_now_button\u001b[39m.\u001b[39mclick()\n\u001b[0;32m     65\u001b[0m \u001b[39m# Wait for the next page to load\u001b[39;00m\n",
      "File \u001b[1;32mc:\\Users\\deepg\\OneDrive\\Documents\\Dev\\Instagram_scraping\\venv\\lib\\site-packages\\selenium\\webdriver\\remote\\webdriver.py:526\u001b[0m, in \u001b[0;36mWebDriver.find_element_by_xpath\u001b[1;34m(self, xpath)\u001b[0m\n\u001b[0;32m    504\u001b[0m \u001b[39m\u001b[39m\u001b[39m\"\"\"\u001b[39;00m\n\u001b[0;32m    505\u001b[0m \u001b[39mFinds an element by xpath.\u001b[39;00m\n\u001b[0;32m    506\u001b[0m \n\u001b[1;32m   (...)\u001b[0m\n\u001b[0;32m    519\u001b[0m \u001b[39m        element = driver.find_element_by_xpath('//div/td[1]')\u001b[39;00m\n\u001b[0;32m    520\u001b[0m \u001b[39m\"\"\"\u001b[39;00m\n\u001b[0;32m    521\u001b[0m warnings\u001b[39m.\u001b[39mwarn(\n\u001b[0;32m    522\u001b[0m     \u001b[39m\"\u001b[39m\u001b[39mfind_element_by_xpath is deprecated. Please use find_element(by=By.XPATH, value=xpath) instead\u001b[39m\u001b[39m\"\u001b[39m,\n\u001b[0;32m    523\u001b[0m     \u001b[39mDeprecationWarning\u001b[39;00m,\n\u001b[0;32m    524\u001b[0m     stacklevel\u001b[39m=\u001b[39m\u001b[39m2\u001b[39m,\n\u001b[0;32m    525\u001b[0m )\n\u001b[1;32m--> 526\u001b[0m \u001b[39mreturn\u001b[39;00m \u001b[39mself\u001b[39;49m\u001b[39m.\u001b[39;49mfind_element(by\u001b[39m=\u001b[39;49mBy\u001b[39m.\u001b[39;49mXPATH, value\u001b[39m=\u001b[39;49mxpath)\n",
      "File \u001b[1;32mc:\\Users\\deepg\\OneDrive\\Documents\\Dev\\Instagram_scraping\\venv\\lib\\site-packages\\selenium\\webdriver\\remote\\webdriver.py:1251\u001b[0m, in \u001b[0;36mWebDriver.find_element\u001b[1;34m(self, by, value)\u001b[0m\n\u001b[0;32m   1248\u001b[0m     by \u001b[39m=\u001b[39m By\u001b[39m.\u001b[39mCSS_SELECTOR\n\u001b[0;32m   1249\u001b[0m     value \u001b[39m=\u001b[39m \u001b[39m'\u001b[39m\u001b[39m[name=\u001b[39m\u001b[39m\"\u001b[39m\u001b[39m%s\u001b[39;00m\u001b[39m\"\u001b[39m\u001b[39m]\u001b[39m\u001b[39m'\u001b[39m \u001b[39m%\u001b[39m value\n\u001b[1;32m-> 1251\u001b[0m \u001b[39mreturn\u001b[39;00m \u001b[39mself\u001b[39;49m\u001b[39m.\u001b[39;49mexecute(Command\u001b[39m.\u001b[39;49mFIND_ELEMENT, {\n\u001b[0;32m   1252\u001b[0m     \u001b[39m'\u001b[39;49m\u001b[39musing\u001b[39;49m\u001b[39m'\u001b[39;49m: by,\n\u001b[0;32m   1253\u001b[0m     \u001b[39m'\u001b[39;49m\u001b[39mvalue\u001b[39;49m\u001b[39m'\u001b[39;49m: value})[\u001b[39m'\u001b[39m\u001b[39mvalue\u001b[39m\u001b[39m'\u001b[39m]\n",
      "File \u001b[1;32mc:\\Users\\deepg\\OneDrive\\Documents\\Dev\\Instagram_scraping\\venv\\lib\\site-packages\\selenium\\webdriver\\remote\\webdriver.py:430\u001b[0m, in \u001b[0;36mWebDriver.execute\u001b[1;34m(self, driver_command, params)\u001b[0m\n\u001b[0;32m    428\u001b[0m response \u001b[39m=\u001b[39m \u001b[39mself\u001b[39m\u001b[39m.\u001b[39mcommand_executor\u001b[39m.\u001b[39mexecute(driver_command, params)\n\u001b[0;32m    429\u001b[0m \u001b[39mif\u001b[39;00m response:\n\u001b[1;32m--> 430\u001b[0m     \u001b[39mself\u001b[39;49m\u001b[39m.\u001b[39;49merror_handler\u001b[39m.\u001b[39;49mcheck_response(response)\n\u001b[0;32m    431\u001b[0m     response[\u001b[39m'\u001b[39m\u001b[39mvalue\u001b[39m\u001b[39m'\u001b[39m] \u001b[39m=\u001b[39m \u001b[39mself\u001b[39m\u001b[39m.\u001b[39m_unwrap_value(\n\u001b[0;32m    432\u001b[0m         response\u001b[39m.\u001b[39mget(\u001b[39m'\u001b[39m\u001b[39mvalue\u001b[39m\u001b[39m'\u001b[39m, \u001b[39mNone\u001b[39;00m))\n\u001b[0;32m    433\u001b[0m     \u001b[39mreturn\u001b[39;00m response\n",
      "File \u001b[1;32mc:\\Users\\deepg\\OneDrive\\Documents\\Dev\\Instagram_scraping\\venv\\lib\\site-packages\\selenium\\webdriver\\remote\\errorhandler.py:247\u001b[0m, in \u001b[0;36mErrorHandler.check_response\u001b[1;34m(self, response)\u001b[0m\n\u001b[0;32m    245\u001b[0m         alert_text \u001b[39m=\u001b[39m value[\u001b[39m'\u001b[39m\u001b[39malert\u001b[39m\u001b[39m'\u001b[39m]\u001b[39m.\u001b[39mget(\u001b[39m'\u001b[39m\u001b[39mtext\u001b[39m\u001b[39m'\u001b[39m)\n\u001b[0;32m    246\u001b[0m     \u001b[39mraise\u001b[39;00m exception_class(message, screen, stacktrace, alert_text)  \u001b[39m# type: ignore[call-arg]  # mypy is not smart enough here\u001b[39;00m\n\u001b[1;32m--> 247\u001b[0m \u001b[39mraise\u001b[39;00m exception_class(message, screen, stacktrace)\n",
      "\u001b[1;31mNoSuchElementException\u001b[0m: Message: no such element: Unable to locate element: {\"method\":\"xpath\",\"selector\":\"//button[text()='Not Now']\"}\n  (Session info: chrome=110.0.5481.178)\nStacktrace:\nBacktrace:\n\t(No symbol) [0x003E37D3]\n\t(No symbol) [0x00378B81]\n\t(No symbol) [0x0027B36D]\n\t(No symbol) [0x002AD382]\n\t(No symbol) [0x002AD4BB]\n\t(No symbol) [0x002E3302]\n\t(No symbol) [0x002CB464]\n\t(No symbol) [0x002E1215]\n\t(No symbol) [0x002CB216]\n\t(No symbol) [0x002A0D97]\n\t(No symbol) [0x002A253D]\n\tGetHandleVerifier [0x0065ABF2+2510930]\n\tGetHandleVerifier [0x00688EC1+2700065]\n\tGetHandleVerifier [0x0068C86C+2714828]\n\tGetHandleVerifier [0x00493480+645344]\n\t(No symbol) [0x00380FD2]\n\t(No symbol) [0x00386C68]\n\t(No symbol) [0x00386D4B]\n\t(No symbol) [0x00390D6B]\n\tBaseThreadInitThunk [0x75727D69+25]\n\tRtlInitializeExceptionChain [0x777DBB9B+107]\n\tRtlClearBits [0x777DBB1F+191]\n"
     ]
    }
   ],
   "source": [
    "from selenium import webdriver\n",
    "from selenium.webdriver.common.keys import Keys\n",
    "from selenium.common.exceptions import NoSuchElementException,TimeoutException \n",
    "from selenium.webdriver.support.ui import Select\n",
    "import time\n",
    "\n",
    "# Replace with your own details\n",
    "username = \"qwertyuiop9191\"\n",
    "password = \"qwerty123!\"\n",
    "email = \"qwertyuiop9191@eurokool.com\"\n",
    "fullname = \"qwertyuiop9191\"\n",
    "\n",
    "# Start the browser and go to the Instagram sign up page\n",
    "chromedriver_path = \"../chromedriver.exe\"\n",
    "browser = webdriver.Chrome(chromedriver_path)\n",
    "browser.get(\"https://www.instagram.com/accounts/emailsignup/\")\n",
    "\n",
    "# Wait for the page to load\n",
    "time.sleep(2)\n",
    "\n",
    "# Find the form fields and enter the details\n",
    "email_input = browser.find_element_by_name(\"emailOrPhone\")\n",
    "email_input.send_keys(email)\n",
    "\n",
    "fullname_input = browser.find_element_by_name(\"fullName\")\n",
    "fullname_input.send_keys(fullname)\n",
    "\n",
    "username_input = browser.find_element_by_name(\"username\")\n",
    "username_input.send_keys(username)\n",
    "\n",
    "# Check if the chosen username is available\n",
    "#check_username_button = browser.find_element_by_xpath(\"//button[text()='Check']\")\n",
    "#check_username_button.click()\n",
    "\n",
    "time.sleep(2)\n",
    "\n",
    "password_input = browser.find_element_by_name(\"password\")\n",
    "password_input.send_keys(password)\n",
    "\n",
    "# Click the sign up button\n",
    "sign_up_button = browser.find_element_by_css_selector(\"button[type='submit']\")\n",
    "sign_up_button.click()\n",
    "\n",
    "# Wait for the next page to load\n",
    "time.sleep(2)\n",
    "while True:\n",
    "    try:\n",
    "        not_available_ele = browser.find_element_by_id(\"ssfErrorAlert\")\n",
    "        generator_btn = \"/html/body/div[2]/div/div/div[1]/div/div/div/div[1]/section/main/div/div/div[1]/div[2]/form/div[5]/div/div/div/button/span\"\n",
    "        username_generator_button = browser.find_element(by=By.XPATH,value=generator_btn )\n",
    "        username_generator_button.click()\n",
    "        username = username_input.get_attribute('value')\n",
    "        print(f\"Cleared================================={username}\")\n",
    "        #username_input.send_keys(username)\n",
    "        sign_up_button.click()\n",
    "        break\n",
    "    except NoSuchElementException:\n",
    "        pass\n",
    "        \n",
    "\n",
    "\n",
    "# Click the \"Not Now\" button to skip adding friends\n",
    "not_now_button = browser.find_element_by_xpath(\"//button[text()='Not Now']\")\n",
    "not_now_button.click()\n",
    "\n",
    "# Wait for the next page to load\n",
    "time.sleep(2)\n",
    "\n",
    "# Click the \"Skip\" button to skip setting up your profile\n",
    "skip_button = browser.find_element_by_xpath(\"//button[text()='Skip']\")\n",
    "skip_button.click()\n",
    "\n",
    "# Wait for the next page to load\n",
    "time.sleep(2)\n",
    "\n",
    "# Close the browser\n",
    "browser.close()\n",
    "\n",
    "\n",
    "not_available_ele = browser.find_element_by_id(\"ssfErrorAlert\")\n",
    "not_available_ele.text"
   ]
  },
  {
   "cell_type": "code",
   "execution_count": 22,
   "metadata": {},
   "outputs": [
    {
     "data": {
      "text/plain": [
       "''"
      ]
     },
     "execution_count": 22,
     "metadata": {},
     "output_type": "execute_result"
    }
   ],
   "source": [
    "username_input.get_attribute('value')"
   ]
  },
  {
   "cell_type": "code",
   "execution_count": 28,
   "metadata": {},
   "outputs": [],
   "source": [
    "month_select_xpath = \"/html/body/div[2]/div/div/div[1]/div/div/div/div[1]/section/main/div/div/div[1]/div/div[4]/div/div/span/span[1]/select\"\n",
    "date_select_xpath = \"/html/body/div[2]/div/div/div[1]/div/div/div/div[1]/section/main/div/div/div[1]/div/div[4]/div/div/span/span[2]/select\"\n",
    "year_select_xpath = \"/html/body/div[2]/div/div/div[1]/div/div/div/div[1]/section/main/div/div/div[1]/div/div[4]/div/div/span/span[3]/select\"\n",
    "\n",
    "next_button_xpath = \"/html/body/div[2]/div/div/div[1]/div/div/div/div[1]/section/main/div/div/div[1]/div/div[6]\"\n",
    "\n"
   ]
  },
  {
   "cell_type": "code",
   "execution_count": 30,
   "metadata": {},
   "outputs": [],
   "source": [
    "from selenium.webdriver.support.ui import Select"
   ]
  },
  {
   "cell_type": "code",
   "execution_count": 32,
   "metadata": {},
   "outputs": [],
   "source": [
    "month_select_element = browser.find_element(by=By.XPATH, value=month_select_xpath)\n",
    "month_select = Select(month_select_element)\n",
    "month_select.select_by_visible_text('March')\n",
    "date_select_element = browser.find_element(by=By.XPATH, value=date_select_xpath)\n",
    "date_select = Select(date_select_element)\n",
    "date_select.select_by_visible_text('12')\n",
    "year_select_element = browser.find_element(by=By.XPATH, value=year_select_xpath)\n",
    "year_select = Select(year_select_element)\n",
    "year_select.select_by_visible_text('1995')\n"
   ]
  },
  {
   "cell_type": "code",
   "execution_count": 35,
   "metadata": {},
   "outputs": [],
   "source": [
    "next_button_element = browser.find_element(by=By.XPATH, value=next_button_xpath)\n",
    "next_button_element.click()"
   ]
  },
  {
   "cell_type": "code",
   "execution_count": 42,
   "metadata": {},
   "outputs": [],
   "source": [
    "next_button_element = browser.find_element(by=By.XPATH, value=next_button_xpath)\n",
    "next_button_element.click()\n",
    "from pymailtm import Account, MailTm\n",
    "\n",
    "mt = MailTm()\n",
    "\n",
    "\n",
    "token = \"/accounts/6400b8aabbfe3825ed2e0204\"\n",
    "account = Account(token, email, password)\n",
    "#print(account.get_messages())\n",
    "message = account.wait_for_message()\n",
    "subject = message.subject\n",
    "code = ''.join(filter(str.isdigit, subject))\n"
   ]
  },
  {
   "cell_type": "code",
   "execution_count": 43,
   "metadata": {},
   "outputs": [
    {
     "data": {
      "text/plain": [
       "'743509'"
      ]
     },
     "execution_count": 43,
     "metadata": {},
     "output_type": "execute_result"
    }
   ],
   "source": [
    "code"
   ]
  },
  {
   "cell_type": "code",
   "execution_count": 44,
   "metadata": {},
   "outputs": [
    {
     "data": {
      "text/plain": [
       "'743509 is your Instagram code'"
      ]
     },
     "execution_count": 44,
     "metadata": {},
     "output_type": "execute_result"
    }
   ],
   "source": [
    "message.subject"
   ]
  },
  {
   "cell_type": "code",
   "execution_count": 45,
   "metadata": {},
   "outputs": [],
   "source": [
    "code_input_xpath = \"/html/body/div[2]/div/div/div[1]/div/div/div/div[1]/section/main/div/div/div[1]/div[2]/form/div/div[1]/input\"\n",
    "code_input_element = browser.find_element(by=By.XPATH, value=code_input_xpath)\n",
    "code_input_element.send_keys(code)\n",
    "conf_next_button_xpath = \"/html/body/div[2]/div/div/div[1]/div/div/div/div[1]/section/main/div/div/div[1]/div[2]/form/div/div[2]\"\n",
    "conf_next_button_element = browser.find_element(by=By.XPATH, value=conf_next_button_xpath)\n",
    "conf_next_button_element.click()"
   ]
  },
  {
   "cell_type": "code",
   "execution_count": 49,
   "metadata": {},
   "outputs": [
    {
     "name": "stderr",
     "output_type": "stream",
     "text": [
      "C:\\Users\\deepg\\AppData\\Local\\Temp\\ipykernel_7544\\161198908.py:6: DeprecationWarning: executable_path has been deprecated, please pass in a Service object\n",
      "  driver = webdriver.Chrome(chromedriver_path)\n",
      "C:\\Users\\deepg\\AppData\\Local\\Temp\\ipykernel_7544\\161198908.py:13: DeprecationWarning: find_element_by_name is deprecated. Please use find_element(by=By.NAME, value=name) instead\n",
      "  first_name_field = driver.find_element_by_name('firstName')\n",
      "C:\\Users\\deepg\\AppData\\Local\\Temp\\ipykernel_7544\\161198908.py:15: DeprecationWarning: find_element_by_name is deprecated. Please use find_element(by=By.NAME, value=name) instead\n",
      "  last_name_field = driver.find_element_by_name('lastName')\n",
      "C:\\Users\\deepg\\AppData\\Local\\Temp\\ipykernel_7544\\161198908.py:17: DeprecationWarning: find_element_by_name is deprecated. Please use find_element(by=By.NAME, value=name) instead\n",
      "  username_field = driver.find_element_by_name('Username')\n",
      "C:\\Users\\deepg\\AppData\\Local\\Temp\\ipykernel_7544\\161198908.py:19: DeprecationWarning: find_element_by_name is deprecated. Please use find_element(by=By.NAME, value=name) instead\n",
      "  password_field = driver.find_element_by_name('Passwd')\n",
      "C:\\Users\\deepg\\AppData\\Local\\Temp\\ipykernel_7544\\161198908.py:21: DeprecationWarning: find_element_by_name is deprecated. Please use find_element(by=By.NAME, value=name) instead\n",
      "  confirm_password_field = driver.find_element_by_name('ConfirmPasswd')\n",
      "C:\\Users\\deepg\\AppData\\Local\\Temp\\ipykernel_7544\\161198908.py:35: DeprecationWarning: find_element_by_name is deprecated. Please use find_element(by=By.NAME, value=name) instead\n",
      "  birth_month_field = driver.find_element_by_name('birthMonth')\n"
     ]
    },
    {
     "ename": "NoSuchElementException",
     "evalue": "Message: no such element: Unable to locate element: {\"method\":\"css selector\",\"selector\":\"[name=\"birthMonth\"]\"}\n  (Session info: chrome=110.0.5481.178)\nStacktrace:\nBacktrace:\n\t(No symbol) [0x003E37D3]\n\t(No symbol) [0x00378B81]\n\t(No symbol) [0x0027B36D]\n\t(No symbol) [0x002AD382]\n\t(No symbol) [0x002AD4BB]\n\t(No symbol) [0x002E3302]\n\t(No symbol) [0x002CB464]\n\t(No symbol) [0x002E1215]\n\t(No symbol) [0x002CB216]\n\t(No symbol) [0x002A0D97]\n\t(No symbol) [0x002A253D]\n\tGetHandleVerifier [0x0065ABF2+2510930]\n\tGetHandleVerifier [0x00688EC1+2700065]\n\tGetHandleVerifier [0x0068C86C+2714828]\n\tGetHandleVerifier [0x00493480+645344]\n\t(No symbol) [0x00380FD2]\n\t(No symbol) [0x00386C68]\n\t(No symbol) [0x00386D4B]\n\t(No symbol) [0x00390D6B]\n\tBaseThreadInitThunk [0x75727D69+25]\n\tRtlInitializeExceptionChain [0x777DBB9B+107]\n\tRtlClearBits [0x777DBB1F+191]\n",
     "output_type": "error",
     "traceback": [
      "\u001b[1;31m---------------------------------------------------------------------------\u001b[0m",
      "\u001b[1;31mNoSuchElementException\u001b[0m                    Traceback (most recent call last)",
      "Cell \u001b[1;32mIn[49], line 35\u001b[0m\n\u001b[0;32m     30\u001b[0m time\u001b[39m.\u001b[39msleep(\u001b[39m3\u001b[39m)\n\u001b[0;32m     32\u001b[0m \u001b[39m# Enter the rest of the information\u001b[39;00m\n\u001b[0;32m     33\u001b[0m \u001b[39m#phone_field = driver.find_element_by_name('phoneNumber')\u001b[39;00m\n\u001b[0;32m     34\u001b[0m \u001b[39m#phone_field.send_keys('1234567890')\u001b[39;00m\n\u001b[1;32m---> 35\u001b[0m birth_month_field \u001b[39m=\u001b[39m driver\u001b[39m.\u001b[39;49mfind_element_by_name(\u001b[39m'\u001b[39;49m\u001b[39mbirthMonth\u001b[39;49m\u001b[39m'\u001b[39;49m)\n\u001b[0;32m     36\u001b[0m birth_month_field\u001b[39m.\u001b[39msend_keys(\u001b[39m'\u001b[39m\u001b[39mJanuary\u001b[39m\u001b[39m'\u001b[39m)\n\u001b[0;32m     37\u001b[0m birth_day_field \u001b[39m=\u001b[39m driver\u001b[39m.\u001b[39mfind_element_by_name(\u001b[39m'\u001b[39m\u001b[39mbirthDay\u001b[39m\u001b[39m'\u001b[39m)\n",
      "File \u001b[1;32mc:\\Users\\deepg\\OneDrive\\Documents\\Dev\\Instagram_scraping\\venv\\lib\\site-packages\\selenium\\webdriver\\remote\\webdriver.py:670\u001b[0m, in \u001b[0;36mWebDriver.find_element_by_name\u001b[1;34m(self, name)\u001b[0m\n\u001b[0;32m    648\u001b[0m \u001b[39m\u001b[39m\u001b[39m\"\"\"\u001b[39;00m\n\u001b[0;32m    649\u001b[0m \u001b[39mFinds an element by name.\u001b[39;00m\n\u001b[0;32m    650\u001b[0m \n\u001b[1;32m   (...)\u001b[0m\n\u001b[0;32m    663\u001b[0m \u001b[39m        element = driver.find_element_by_name('foo')\u001b[39;00m\n\u001b[0;32m    664\u001b[0m \u001b[39m\"\"\"\u001b[39;00m\n\u001b[0;32m    665\u001b[0m warnings\u001b[39m.\u001b[39mwarn(\n\u001b[0;32m    666\u001b[0m     \u001b[39m\"\u001b[39m\u001b[39mfind_element_by_name is deprecated. Please use find_element(by=By.NAME, value=name) instead\u001b[39m\u001b[39m\"\u001b[39m,\n\u001b[0;32m    667\u001b[0m     \u001b[39mDeprecationWarning\u001b[39;00m,\n\u001b[0;32m    668\u001b[0m     stacklevel\u001b[39m=\u001b[39m\u001b[39m2\u001b[39m,\n\u001b[0;32m    669\u001b[0m )\n\u001b[1;32m--> 670\u001b[0m \u001b[39mreturn\u001b[39;00m \u001b[39mself\u001b[39;49m\u001b[39m.\u001b[39;49mfind_element(by\u001b[39m=\u001b[39;49mBy\u001b[39m.\u001b[39;49mNAME, value\u001b[39m=\u001b[39;49mname)\n",
      "File \u001b[1;32mc:\\Users\\deepg\\OneDrive\\Documents\\Dev\\Instagram_scraping\\venv\\lib\\site-packages\\selenium\\webdriver\\remote\\webdriver.py:1251\u001b[0m, in \u001b[0;36mWebDriver.find_element\u001b[1;34m(self, by, value)\u001b[0m\n\u001b[0;32m   1248\u001b[0m     by \u001b[39m=\u001b[39m By\u001b[39m.\u001b[39mCSS_SELECTOR\n\u001b[0;32m   1249\u001b[0m     value \u001b[39m=\u001b[39m \u001b[39m'\u001b[39m\u001b[39m[name=\u001b[39m\u001b[39m\"\u001b[39m\u001b[39m%s\u001b[39;00m\u001b[39m\"\u001b[39m\u001b[39m]\u001b[39m\u001b[39m'\u001b[39m \u001b[39m%\u001b[39m value\n\u001b[1;32m-> 1251\u001b[0m \u001b[39mreturn\u001b[39;00m \u001b[39mself\u001b[39;49m\u001b[39m.\u001b[39;49mexecute(Command\u001b[39m.\u001b[39;49mFIND_ELEMENT, {\n\u001b[0;32m   1252\u001b[0m     \u001b[39m'\u001b[39;49m\u001b[39musing\u001b[39;49m\u001b[39m'\u001b[39;49m: by,\n\u001b[0;32m   1253\u001b[0m     \u001b[39m'\u001b[39;49m\u001b[39mvalue\u001b[39;49m\u001b[39m'\u001b[39;49m: value})[\u001b[39m'\u001b[39m\u001b[39mvalue\u001b[39m\u001b[39m'\u001b[39m]\n",
      "File \u001b[1;32mc:\\Users\\deepg\\OneDrive\\Documents\\Dev\\Instagram_scraping\\venv\\lib\\site-packages\\selenium\\webdriver\\remote\\webdriver.py:430\u001b[0m, in \u001b[0;36mWebDriver.execute\u001b[1;34m(self, driver_command, params)\u001b[0m\n\u001b[0;32m    428\u001b[0m response \u001b[39m=\u001b[39m \u001b[39mself\u001b[39m\u001b[39m.\u001b[39mcommand_executor\u001b[39m.\u001b[39mexecute(driver_command, params)\n\u001b[0;32m    429\u001b[0m \u001b[39mif\u001b[39;00m response:\n\u001b[1;32m--> 430\u001b[0m     \u001b[39mself\u001b[39;49m\u001b[39m.\u001b[39;49merror_handler\u001b[39m.\u001b[39;49mcheck_response(response)\n\u001b[0;32m    431\u001b[0m     response[\u001b[39m'\u001b[39m\u001b[39mvalue\u001b[39m\u001b[39m'\u001b[39m] \u001b[39m=\u001b[39m \u001b[39mself\u001b[39m\u001b[39m.\u001b[39m_unwrap_value(\n\u001b[0;32m    432\u001b[0m         response\u001b[39m.\u001b[39mget(\u001b[39m'\u001b[39m\u001b[39mvalue\u001b[39m\u001b[39m'\u001b[39m, \u001b[39mNone\u001b[39;00m))\n\u001b[0;32m    433\u001b[0m     \u001b[39mreturn\u001b[39;00m response\n",
      "File \u001b[1;32mc:\\Users\\deepg\\OneDrive\\Documents\\Dev\\Instagram_scraping\\venv\\lib\\site-packages\\selenium\\webdriver\\remote\\errorhandler.py:247\u001b[0m, in \u001b[0;36mErrorHandler.check_response\u001b[1;34m(self, response)\u001b[0m\n\u001b[0;32m    245\u001b[0m         alert_text \u001b[39m=\u001b[39m value[\u001b[39m'\u001b[39m\u001b[39malert\u001b[39m\u001b[39m'\u001b[39m]\u001b[39m.\u001b[39mget(\u001b[39m'\u001b[39m\u001b[39mtext\u001b[39m\u001b[39m'\u001b[39m)\n\u001b[0;32m    246\u001b[0m     \u001b[39mraise\u001b[39;00m exception_class(message, screen, stacktrace, alert_text)  \u001b[39m# type: ignore[call-arg]  # mypy is not smart enough here\u001b[39;00m\n\u001b[1;32m--> 247\u001b[0m \u001b[39mraise\u001b[39;00m exception_class(message, screen, stacktrace)\n",
      "\u001b[1;31mNoSuchElementException\u001b[0m: Message: no such element: Unable to locate element: {\"method\":\"css selector\",\"selector\":\"[name=\"birthMonth\"]\"}\n  (Session info: chrome=110.0.5481.178)\nStacktrace:\nBacktrace:\n\t(No symbol) [0x003E37D3]\n\t(No symbol) [0x00378B81]\n\t(No symbol) [0x0027B36D]\n\t(No symbol) [0x002AD382]\n\t(No symbol) [0x002AD4BB]\n\t(No symbol) [0x002E3302]\n\t(No symbol) [0x002CB464]\n\t(No symbol) [0x002E1215]\n\t(No symbol) [0x002CB216]\n\t(No symbol) [0x002A0D97]\n\t(No symbol) [0x002A253D]\n\tGetHandleVerifier [0x0065ABF2+2510930]\n\tGetHandleVerifier [0x00688EC1+2700065]\n\tGetHandleVerifier [0x0068C86C+2714828]\n\tGetHandleVerifier [0x00493480+645344]\n\t(No symbol) [0x00380FD2]\n\t(No symbol) [0x00386C68]\n\t(No symbol) [0x00386D4B]\n\t(No symbol) [0x00390D6B]\n\tBaseThreadInitThunk [0x75727D69+25]\n\tRtlInitializeExceptionChain [0x777DBB9B+107]\n\tRtlClearBits [0x777DBB1F+191]\n"
     ]
    }
   ],
   "source": [
    "from selenium import webdriver\n",
    "from selenium.webdriver.common.keys import Keys\n",
    "import time\n",
    "\n",
    "# Set up the webdriver\n",
    "driver = webdriver.Chrome(chromedriver_path)\n",
    "driver.maximize_window()\n",
    "\n",
    "# Navigate to the Gmail sign up page\n",
    "driver.get('https://accounts.google.com/signup/v2/webcreateaccount?flowName=GlifWebSignIn&flowEntry=SignUp')\n",
    "\n",
    "# Enter the required information\n",
    "first_name_field = driver.find_element_by_name('firstName')\n",
    "first_name_field.send_keys('John')\n",
    "last_name_field = driver.find_element_by_name('lastName')\n",
    "last_name_field.send_keys('Doe')\n",
    "username_field = driver.find_element_by_name('Username')\n",
    "username_field.send_keys('johndoe915343')\n",
    "password_field = driver.find_element_by_name('Passwd')\n",
    "password_field.send_keys('Avenger27@')\n",
    "confirm_password_field = driver.find_element_by_name('ConfirmPasswd')\n",
    "confirm_password_field.send_keys('Avenger27@')\n",
    "\n",
    "# Click the \"Next\" button\n",
    "gmail_next_button_xpath = \"/html/body/div[1]/div[1]/div[2]/div[1]/div[2]/div/div/div[2]/div/div[2]/div/div[1]/div/div/button/span\"\n",
    "next_button = driver.find_element(by=By.XPATH, value=gmail_next_button_xpath)\n",
    "next_button.click()\n",
    "\n",
    "# Wait for the page to load\n",
    "time.sleep(3)\n",
    "\n",
    "# Enter the rest of the information\n",
    "#phone_field = driver.find_element_by_name('phoneNumber')\n",
    "#phone_field.send_keys('1234567890')\n",
    "birth_month_field = driver.find_element_by_name('birthMonth')\n",
    "birth_month_field.send_keys('January')\n",
    "birth_day_field = driver.find_element_by_name('birthDay')\n",
    "birth_day_field.send_keys('1')\n",
    "birth_year_field = driver.find_element_by_name('birthYear')\n",
    "birth_year_field.send_keys('1990')\n",
    "gender_field = driver.find_element_by_xpath(\"//div[@class='OA0qNb ncFHed']\")\n",
    "gender_field.click()\n",
    "\n",
    "# Click the \"Next\" button\n",
    "next_button2 = driver.find_element_by_xpath(\"//div[@class='VfPpkd-RLmnJb']\")\n",
    "next_button2.click()\n",
    "\n",
    "# Wait for the page to load\n",
    "time.sleep(3)\n",
    "\n",
    "# Agree to the terms of service\n",
    "agree_button = driver.find_element_by_xpath(\"//div[@class='VfPpkd-RLmnJb']\")\n",
    "agree_button.click()\n",
    "\n",
    "# Wait for the account to be created\n",
    "time.sleep(5)\n",
    "\n",
    "# Close the browser\n",
    "driver.quit()\n"
   ]
  },
  {
   "cell_type": "code",
   "execution_count": null,
   "metadata": {},
   "outputs": [],
   "source": []
  }
 ],
 "metadata": {
  "kernelspec": {
   "display_name": "venv",
   "language": "python",
   "name": "python3"
  },
  "language_info": {
   "codemirror_mode": {
    "name": "ipython",
    "version": 3
   },
   "file_extension": ".py",
   "mimetype": "text/x-python",
   "name": "python",
   "nbconvert_exporter": "python",
   "pygments_lexer": "ipython3",
   "version": "3.10.10"
  },
  "orig_nbformat": 4
 },
 "nbformat": 4,
 "nbformat_minor": 2
}
