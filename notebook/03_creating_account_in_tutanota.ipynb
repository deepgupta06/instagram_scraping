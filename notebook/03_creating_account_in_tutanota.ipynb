{
 "cells": [
  {
   "cell_type": "code",
   "execution_count": 47,
   "metadata": {},
   "outputs": [],
   "source": [
    "from selenium import webdriver \n",
    "from selenium.webdriver.common.by import By\n",
    "import pyperclip\n",
    "import time"
   ]
  },
  {
   "cell_type": "code",
   "execution_count": 36,
   "metadata": {},
   "outputs": [],
   "source": [
    "driver_path = \"../chromedriver.exe\""
   ]
  },
  {
   "cell_type": "code",
   "execution_count": 37,
   "metadata": {},
   "outputs": [
    {
     "name": "stderr",
     "output_type": "stream",
     "text": [
      "C:\\Users\\deepg\\AppData\\Local\\Temp\\ipykernel_13680\\1236850632.py:1: DeprecationWarning: executable_path has been deprecated, please pass in a Service object\n",
      "  wd = webdriver.Chrome(driver_path)\n"
     ]
    }
   ],
   "source": [
    "wd = webdriver.Chrome(driver_path)"
   ]
  },
  {
   "cell_type": "code",
   "execution_count": 38,
   "metadata": {},
   "outputs": [],
   "source": [
    "link = \"https://mail.tutanota.com/login?noAutoLogin=true&keepSession=true\""
   ]
  },
  {
   "cell_type": "code",
   "execution_count": 48,
   "metadata": {},
   "outputs": [],
   "source": [
    "wd.get(link)"
   ]
  },
  {
   "cell_type": "code",
   "execution_count": 46,
   "metadata": {},
   "outputs": [],
   "source": [
    "MORE_XPATH = \"/html/body/div/div[3]/div[2]/div/div[3]/div/button/small\"\n",
    "SIGNUP_XPATH = \"/html/body/div/div[3]/div[2]/div/div[4]/div/div/div/button[1]/div/div\"\n",
    "FREE_XPATH = \"/html/body/div/div[2]/div/div/div/div/div/div[2]/div/div/div/div[2]/div[1]/div/div[1]/div[5]/button/div\"\n",
    "AGREE_1_XAPTH = \"/html/body/div/div[2]/div[2]/div/div/div/div[2]/div[1]/div/div\"\n",
    "AGREE_2_XAPTH = \"/html/body/div/div[2]/div[2]/div/div/div/div[2]/div[2]\"\n",
    "AGREE_OK_XPATH = \"/html/body/div/div[2]/div[2]/div/div/div/div[3]/button[2]/div/div\"\n",
    "EMAIL_INPUT_XAPTH = \"/html/body/div/div[2]/div/div/div/div/div/div[2]/div/div/div[2]/div/div[1]/div/div/div/div[1]/input\"\n",
    "PASSWORD_INPUT_XAPTH = \"/html/body/div/div[2]/div/div/div/div/div/div[2]/div/div/div[2]/div/div[2]/div[1]/div/div/div/div[1]/input\"\n",
    "TERM_AGREE_XPATH = \"/html/body/div/div[2]/div/div/div/div/div/div[2]/div/div/div[2]/div/div[3]/div/input\"\n",
    "AGE_XPATH = \"/html/body/div/div[2]/div/div/div/div/div/div[2]/div/div/div[2]/div/div[4]/div/input\"\n",
    "NEXT1_BUTTON_XPATH = \"/html/body/div/div[2]/div/div/div/div/div/div[2]/div/div/div[2]/div/div[5]/button/div\"\n",
    "# Loading pop-up after clinking on next\n",
    "PREPEARING_XPATH = \"/html/body/div/div[2]/div[2]/div/div/div/div/p\"\n",
    "RECOVERYCODE_COPY_XPATH = \"/html/body/div/div[2]/div/div/div/div/div/div[2]/div/div/div[3]/div[3]/button[1]/div/span\"\n",
    "RECOVERY_OK_BUTTON_XPATH = \"/html/body/div/div[2]/div/div/div/div/div/div[2]/div/div/div[4]/div/button/div\"\n",
    "\n",
    "AVAILIBLITY_TXT_XPATH = \"/html/body/div/div[2]/div/div/div/div/div/div[2]/div/div/div[2]/div/div[1]/small/div\"\n"
   ]
  },
  {
   "cell_type": "code",
   "execution_count": 49,
   "metadata": {},
   "outputs": [],
   "source": [
    "more_element = wd.find_element(by=By.XPATH, value=MORE_XPATH)\n",
    "more_element.click()"
   ]
  },
  {
   "cell_type": "code",
   "execution_count": 50,
   "metadata": {},
   "outputs": [],
   "source": [
    "signup_element = wd.find_element(by=By.XPATH, value=SIGNUP_XPATH)\n",
    "signup_element.click()"
   ]
  },
  {
   "cell_type": "code",
   "execution_count": 52,
   "metadata": {},
   "outputs": [],
   "source": [
    "free_element = wd.find_element(by=By.XPATH, value=FREE_XPATH)\n",
    "free_element.click()"
   ]
  },
  {
   "cell_type": "code",
   "execution_count": 53,
   "metadata": {},
   "outputs": [],
   "source": [
    "agree1_element = wd.find_element(by=By.XPATH, value=AGREE_1_XAPTH)\n",
    "agree1_element.click()\n",
    "agree2_element = wd.find_element(by=By.XPATH, value=AGREE_2_XAPTH)\n",
    "agree2_element.click()\n",
    "agreeok_element = wd.find_element(by=By.XPATH, value=AGREE_OK_XPATH)\n",
    "agreeok_element.click()"
   ]
  },
  {
   "cell_type": "code",
   "execution_count": 54,
   "metadata": {},
   "outputs": [],
   "source": [
    "email_id = \"qwerty9191\"\n",
    "password = \"Avenger123@\"\n",
    "email_input_element = wd.find_element(by=By.XPATH, value=EMAIL_INPUT_XAPTH)\n",
    "email_input_element.send_keys(email_id)\n",
    "time.sleep(5)\n",
    "password_input_element = wd.find_element(by=By.XPATH, value=PASSWORD_INPUT_XAPTH)\n",
    "password_input_element.send_keys(password)\n"
   ]
  },
  {
   "cell_type": "code",
   "execution_count": 55,
   "metadata": {},
   "outputs": [
    {
     "data": {
      "text/plain": [
       "'Email address is not available.'"
      ]
     },
     "execution_count": 55,
     "metadata": {},
     "output_type": "execute_result"
    }
   ],
   "source": [
    "email_available_txt_element = wd.find_element(by=By.XPATH, value=AVAILIBLITY_TXT_XPATH)\n",
    "email_available_txt_element.text"
   ]
  },
  {
   "cell_type": "code",
   "execution_count": null,
   "metadata": {},
   "outputs": [],
   "source": []
  },
  {
   "cell_type": "code",
   "execution_count": 22,
   "metadata": {},
   "outputs": [],
   "source": [
    "term_agree_element = wd.find_element(by=By.XPATH, value=TERM_AGREE_XPATH)\n",
    "term_agree_element.click()\n",
    "age_element = wd.find_element(by=By.XPATH, value=AGE_XPATH)\n",
    "age_element.click()\n"
   ]
  },
  {
   "cell_type": "code",
   "execution_count": 23,
   "metadata": {},
   "outputs": [],
   "source": [
    "next1_element = wd.find_element(by=By.XPATH, value=NEXT1_BUTTON_XPATH)\n",
    "next1_element.click()"
   ]
  },
  {
   "cell_type": "code",
   "execution_count": 28,
   "metadata": {},
   "outputs": [],
   "source": [
    "recovery_code_copy_element = wd.find_element(by=By.XPATH, value=RECOVERYCODE_COPY_XPATH)\n",
    "recovery_code_copy_element.click()"
   ]
  },
  {
   "cell_type": "code",
   "execution_count": 30,
   "metadata": {},
   "outputs": [
    {
     "data": {
      "text/plain": [
       "'ba8468e74154055fc59ed965db91159ea84334c7f4505416169639de9347902f'"
      ]
     },
     "execution_count": 30,
     "metadata": {},
     "output_type": "execute_result"
    }
   ],
   "source": [
    "recovery_code = pyperclip.paste()\n",
    "recovery_code"
   ]
  },
  {
   "cell_type": "code",
   "execution_count": 32,
   "metadata": {},
   "outputs": [],
   "source": [
    "recovery_code_ok_element = wd.find_element(by=By.XPATH, value=RECOVERY_OK_BUTTON_XPATH)\n",
    "recovery_code_ok_element.click()"
   ]
  },
  {
   "cell_type": "code",
   "execution_count": 34,
   "metadata": {},
   "outputs": [
    {
     "data": {
      "text/plain": [
       "'123456 this is your code'"
      ]
     },
     "execution_count": 34,
     "metadata": {},
     "output_type": "execute_result"
    }
   ],
   "source": [
    "FIRST_MAIL_SUBJECT_XPATH = \"/html/body/div/div[3]/div/div[2]/div[1]/div/div/div/div[2]/div/ul/li[1]/div/div[2]/div[2]/div\"\n",
    "subject_element = wd.find_element(by=By.XPATH, value=FIRST_MAIL_SUBJECT_XPATH)\n",
    "subject_element.text"
   ]
  },
  {
   "cell_type": "code",
   "execution_count": null,
   "metadata": {},
   "outputs": [],
   "source": []
  }
 ],
 "metadata": {
  "kernelspec": {
   "display_name": "venv",
   "language": "python",
   "name": "python3"
  },
  "language_info": {
   "codemirror_mode": {
    "name": "ipython",
    "version": 3
   },
   "file_extension": ".py",
   "mimetype": "text/x-python",
   "name": "python",
   "nbconvert_exporter": "python",
   "pygments_lexer": "ipython3",
   "version": "3.10.10"
  },
  "orig_nbformat": 4
 },
 "nbformat": 4,
 "nbformat_minor": 2
}
